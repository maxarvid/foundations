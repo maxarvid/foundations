{
 "cells": [
  {
   "cell_type": "markdown",
   "metadata": {},
   "source": [
    "# Scraping Maryland Business Licenses with Selenium\n",
    "\n",
    "Maryland has a [great portal](https://jportal.mdcourts.gov/license/pbPublicSearch.jsp) for searching business licenses, but the only problem is you have to check a box in order to get in.\n",
    "\n",
    "1. Try to visit [the public search page](https://jportal.mdcourts.gov/license/pbPublicSearch.jsp)\n",
    "2. Get redirected to a \"I agree to this\" page. Click that you've read the disclaimer, click Enter the Site.\n",
    "3. Click \"Search License Records\" down at the bottom of the page\n",
    "4. You're now on the search page! From the \"Jurisdiction\" dropdown, select \"Statewide\"\n",
    "5. In the \"Trade Name\" field, type \"Vap%\" to try to find vape shops\n",
    "6. Click \"Next\" in the bottom right-hand corner to go to the next page\n",
    "7. Click \"Click for detail\" to see the details for a specific business license.\n",
    "\n",
    "That's a lot of stuff! **Let's get to work.**"
   ]
  },
  {
   "cell_type": "markdown",
   "metadata": {},
   "source": [
    "## Import what you need"
   ]
  },
  {
   "cell_type": "code",
   "execution_count": 1,
   "metadata": {},
   "outputs": [],
   "source": [
    "from selenium import webdriver\n",
    "from selenium.webdriver.common.keys import Keys\n",
    "from selenium.webdriver.support.ui import Select\n",
    "from selenium.webdriver.support.ui import WebDriverWait\n",
    "\n",
    "import time\n",
    "import pandas as pd"
   ]
  },
  {
   "cell_type": "markdown",
   "metadata": {},
   "source": [
    "## Preparation\n",
    "\n",
    "### When you search for a business license, what URL should Selenium try to visit first?"
   ]
  },
  {
   "cell_type": "code",
   "execution_count": 2,
   "metadata": {},
   "outputs": [],
   "source": [
    "driver = webdriver.Chrome()\n"
   ]
  },
  {
   "cell_type": "code",
   "execution_count": 3,
   "metadata": {},
   "outputs": [],
   "source": [
    "time.sleep(1)\n",
    "driver.get('https://jportal.mdcourts.gov/license/pbSearchResult.jsp?slcJurisdiction=50&txtTradeName=Vap%25&txtOwnerName=&txtLocationStreetName=&slcYear=2018&slcSortBy=ownername')"
   ]
  },
  {
   "cell_type": "markdown",
   "metadata": {},
   "source": [
    "**It isn't going to work, though! It's going to redirect to that intro page.** You can use *Incognito mode* to go back through the \"Check the box, etc\" series of pages, or you can close and re-open Chrome.\n",
    "\n",
    "- Check the checkbox, then submit the form to accept their terms of service\n",
    "\n",
    "Selenium can submit forms by either\n",
    "\n",
    "- Selecting the form and using `.submit()`, or\n",
    "- Selecting the button and using `.click()`\n",
    "\n",
    "You only need to be able to get **one, not both.**\n",
    "\n",
    "- *TIP: if something doesn't have anything special about it, xpath might be your best bet*"
   ]
  },
  {
   "cell_type": "code",
   "execution_count": 4,
   "metadata": {},
   "outputs": [],
   "source": [
    "driver.get('https://jportal.mdcourts.gov/license/index_disclaimer.jsp')"
   ]
  },
  {
   "cell_type": "markdown",
   "metadata": {},
   "source": [
    "Now click the **Search License Records** link up top in the navigation to get to the search page.\n",
    "\n",
    "- *TIP: Honestly you could also just visit the URL directly now since you filled out that terms of service thing*"
   ]
  },
  {
   "cell_type": "code",
   "execution_count": 5,
   "metadata": {},
   "outputs": [],
   "source": [
    "driver.find_element_by_id('checkbox').click()"
   ]
  },
  {
   "cell_type": "code",
   "execution_count": 6,
   "metadata": {},
   "outputs": [],
   "source": [
    "driver.find_element_by_tag_name('form').submit()"
   ]
  },
  {
   "cell_type": "code",
   "execution_count": 7,
   "metadata": {},
   "outputs": [],
   "source": [
    "driver.get('https://jportal.mdcourts.gov/license/pbPublicSearch.jsp')"
   ]
  },
  {
   "cell_type": "markdown",
   "metadata": {},
   "source": [
    "### Perform your search\n",
    "\n",
    "Pick \"Statewide\" for the jurisdiction dropdown, and `VAP%` into the Trade Name field. The `%` is a wildcard."
   ]
  },
  {
   "cell_type": "code",
   "execution_count": 8,
   "metadata": {},
   "outputs": [],
   "source": [
    "select = Select(driver.find_element_by_id('slcJurisdiction'))\n",
    "select.select_by_visible_text('Statewide')"
   ]
  },
  {
   "cell_type": "code",
   "execution_count": 9,
   "metadata": {},
   "outputs": [],
   "source": [
    "search_name = driver.find_element_by_id('txtTradeName')\n",
    "search_name.send_keys('VAP%')"
   ]
  },
  {
   "cell_type": "markdown",
   "metadata": {},
   "source": [
    "And now, of course, **submit the form**.\n",
    "\n",
    "- *TIP: Since scrolling to buttons can be a pain, sometimes it's easier to select the form and use `.submit()` instead of `.click()`ing the button*"
   ]
  },
  {
   "cell_type": "code",
   "execution_count": 10,
   "metadata": {},
   "outputs": [],
   "source": [
    "driver.find_element_by_tag_name('form').submit()"
   ]
  },
  {
   "cell_type": "code",
   "execution_count": null,
   "metadata": {},
   "outputs": [],
   "source": []
  },
  {
   "cell_type": "markdown",
   "metadata": {},
   "source": [
    "## (Try to) scrape the results\n",
    "\n",
    "Let's start by just **printing this stuff**. We'll save it as a dataframe later on.\n",
    "\n",
    "For now, just scrape **each store's name**, then cry a little. Fact: this is an impossible and miserable page. "
   ]
  },
  {
   "cell_type": "code",
   "execution_count": 11,
   "metadata": {},
   "outputs": [
    {
     "name": "stdout",
     "output_type": "stream",
     "text": [
      "VAPE IT STORE II\n",
      "VAPE IT STORE I\n",
      "VAPEPAD THE\n",
      "VAPE FROG\n",
      "VAPE FROG\n"
     ]
    }
   ],
   "source": [
    "for store in driver.find_elements_by_class_name('searchlistitem'):\n",
    "    print(store.text)"
   ]
  },
  {
   "cell_type": "markdown",
   "metadata": {},
   "source": [
    "To avoid struggling with the search results page, we're going to use the **detail page** instead. Try to figure out how to select it and click it inside of your `for` loop.\n",
    "\n",
    "- *TIP: Instead of just looking for an `a` or an `img`, you might want to look for one of its parents first, then click. This might affect the way you print out the shop's name, too*\n",
    "- *TIP: Not all of them have links! You can wrap in try/except to skip it, or you can check to see if the shop's status is Pending.*"
   ]
  },
  {
   "cell_type": "code",
   "execution_count": 12,
   "metadata": {},
   "outputs": [
    {
     "data": {
      "text/plain": [
       "''"
      ]
     },
     "execution_count": 12,
     "metadata": {},
     "output_type": "execute_result"
    }
   ],
   "source": [
    "driver.find_elements_by_tag_name('a')[2].text"
   ]
  },
  {
   "cell_type": "code",
   "execution_count": 13,
   "metadata": {},
   "outputs": [
    {
     "data": {
      "text/plain": [
       "'2. VAPE IT STORE I'"
      ]
     },
     "execution_count": 13,
     "metadata": {},
     "output_type": "execute_result"
    }
   ],
   "source": [
    "driver.find_elements_by_class_name('searchfieldtitle')[1].text"
   ]
  },
  {
   "cell_type": "code",
   "execution_count": 14,
   "metadata": {},
   "outputs": [
    {
     "name": "stdout",
     "output_type": "stream",
     "text": [
      "------\n",
      "VAPE IT STORE II\n",
      "  AMIN NARGIS Lic. Status: Issued\n"
     ]
    },
    {
     "ename": "StaleElementReferenceException",
     "evalue": "Message: stale element reference: element is not attached to the page document\n  (Session info: chrome=67.0.3396.87)\n  (Driver info: chromedriver=2.40.565386 (45a059dc425e08165f9a10324bd1380cc13ca363),platform=Mac OS X 10.12.6 x86_64)\n",
     "output_type": "error",
     "traceback": [
      "\u001b[0;31m---------------------------------------------------------------------------\u001b[0m",
      "\u001b[0;31mStaleElementReferenceException\u001b[0m            Traceback (most recent call last)",
      "\u001b[0;32m<ipython-input-14-0264f2faf5d1>\u001b[0m in \u001b[0;36m<module>\u001b[0;34m()\u001b[0m\n\u001b[1;32m     21\u001b[0m         \u001b[0mdriver\u001b[0m\u001b[0;34m.\u001b[0m\u001b[0mback\u001b[0m\u001b[0;34m(\u001b[0m\u001b[0;34m)\u001b[0m\u001b[0;34m\u001b[0m\u001b[0m\n\u001b[1;32m     22\u001b[0m         \u001b[0mtime\u001b[0m\u001b[0;34m.\u001b[0m\u001b[0msleep\u001b[0m\u001b[0;34m(\u001b[0m\u001b[0;36m2\u001b[0m\u001b[0;34m)\u001b[0m\u001b[0;34m\u001b[0m\u001b[0m\n\u001b[0;32m---> 23\u001b[0;31m     \u001b[0mprint\u001b[0m\u001b[0;34m(\u001b[0m\u001b[0mstore\u001b[0m\u001b[0;34m.\u001b[0m\u001b[0mtext\u001b[0m\u001b[0;34m)\u001b[0m\u001b[0;34m\u001b[0m\u001b[0m\n\u001b[0m\u001b[1;32m     24\u001b[0m \u001b[0;34m\u001b[0m\u001b[0m\n",
      "\u001b[0;32m~/.pyenv/versions/3.6.4/lib/python3.6/site-packages/selenium/webdriver/remote/webelement.py\u001b[0m in \u001b[0;36mtext\u001b[0;34m(self)\u001b[0m\n\u001b[1;32m     74\u001b[0m     \u001b[0;32mdef\u001b[0m \u001b[0mtext\u001b[0m\u001b[0;34m(\u001b[0m\u001b[0mself\u001b[0m\u001b[0;34m)\u001b[0m\u001b[0;34m:\u001b[0m\u001b[0;34m\u001b[0m\u001b[0m\n\u001b[1;32m     75\u001b[0m         \u001b[0;34m\"\"\"The text of the element.\"\"\"\u001b[0m\u001b[0;34m\u001b[0m\u001b[0m\n\u001b[0;32m---> 76\u001b[0;31m         \u001b[0;32mreturn\u001b[0m \u001b[0mself\u001b[0m\u001b[0;34m.\u001b[0m\u001b[0m_execute\u001b[0m\u001b[0;34m(\u001b[0m\u001b[0mCommand\u001b[0m\u001b[0;34m.\u001b[0m\u001b[0mGET_ELEMENT_TEXT\u001b[0m\u001b[0;34m)\u001b[0m\u001b[0;34m[\u001b[0m\u001b[0;34m'value'\u001b[0m\u001b[0;34m]\u001b[0m\u001b[0;34m\u001b[0m\u001b[0m\n\u001b[0m\u001b[1;32m     77\u001b[0m \u001b[0;34m\u001b[0m\u001b[0m\n\u001b[1;32m     78\u001b[0m     \u001b[0;32mdef\u001b[0m \u001b[0mclick\u001b[0m\u001b[0;34m(\u001b[0m\u001b[0mself\u001b[0m\u001b[0;34m)\u001b[0m\u001b[0;34m:\u001b[0m\u001b[0;34m\u001b[0m\u001b[0m\n",
      "\u001b[0;32m~/.pyenv/versions/3.6.4/lib/python3.6/site-packages/selenium/webdriver/remote/webelement.py\u001b[0m in \u001b[0;36m_execute\u001b[0;34m(self, command, params)\u001b[0m\n\u001b[1;32m    626\u001b[0m             \u001b[0mparams\u001b[0m \u001b[0;34m=\u001b[0m \u001b[0;34m{\u001b[0m\u001b[0;34m}\u001b[0m\u001b[0;34m\u001b[0m\u001b[0m\n\u001b[1;32m    627\u001b[0m         \u001b[0mparams\u001b[0m\u001b[0;34m[\u001b[0m\u001b[0;34m'id'\u001b[0m\u001b[0;34m]\u001b[0m \u001b[0;34m=\u001b[0m \u001b[0mself\u001b[0m\u001b[0;34m.\u001b[0m\u001b[0m_id\u001b[0m\u001b[0;34m\u001b[0m\u001b[0m\n\u001b[0;32m--> 628\u001b[0;31m         \u001b[0;32mreturn\u001b[0m \u001b[0mself\u001b[0m\u001b[0;34m.\u001b[0m\u001b[0m_parent\u001b[0m\u001b[0;34m.\u001b[0m\u001b[0mexecute\u001b[0m\u001b[0;34m(\u001b[0m\u001b[0mcommand\u001b[0m\u001b[0;34m,\u001b[0m \u001b[0mparams\u001b[0m\u001b[0;34m)\u001b[0m\u001b[0;34m\u001b[0m\u001b[0m\n\u001b[0m\u001b[1;32m    629\u001b[0m \u001b[0;34m\u001b[0m\u001b[0m\n\u001b[1;32m    630\u001b[0m     \u001b[0;32mdef\u001b[0m \u001b[0mfind_element\u001b[0m\u001b[0;34m(\u001b[0m\u001b[0mself\u001b[0m\u001b[0;34m,\u001b[0m \u001b[0mby\u001b[0m\u001b[0;34m=\u001b[0m\u001b[0mBy\u001b[0m\u001b[0;34m.\u001b[0m\u001b[0mID\u001b[0m\u001b[0;34m,\u001b[0m \u001b[0mvalue\u001b[0m\u001b[0;34m=\u001b[0m\u001b[0;32mNone\u001b[0m\u001b[0;34m)\u001b[0m\u001b[0;34m:\u001b[0m\u001b[0;34m\u001b[0m\u001b[0m\n",
      "\u001b[0;32m~/.pyenv/versions/3.6.4/lib/python3.6/site-packages/selenium/webdriver/remote/webdriver.py\u001b[0m in \u001b[0;36mexecute\u001b[0;34m(self, driver_command, params)\u001b[0m\n\u001b[1;32m    312\u001b[0m         \u001b[0mresponse\u001b[0m \u001b[0;34m=\u001b[0m \u001b[0mself\u001b[0m\u001b[0;34m.\u001b[0m\u001b[0mcommand_executor\u001b[0m\u001b[0;34m.\u001b[0m\u001b[0mexecute\u001b[0m\u001b[0;34m(\u001b[0m\u001b[0mdriver_command\u001b[0m\u001b[0;34m,\u001b[0m \u001b[0mparams\u001b[0m\u001b[0;34m)\u001b[0m\u001b[0;34m\u001b[0m\u001b[0m\n\u001b[1;32m    313\u001b[0m         \u001b[0;32mif\u001b[0m \u001b[0mresponse\u001b[0m\u001b[0;34m:\u001b[0m\u001b[0;34m\u001b[0m\u001b[0m\n\u001b[0;32m--> 314\u001b[0;31m             \u001b[0mself\u001b[0m\u001b[0;34m.\u001b[0m\u001b[0merror_handler\u001b[0m\u001b[0;34m.\u001b[0m\u001b[0mcheck_response\u001b[0m\u001b[0;34m(\u001b[0m\u001b[0mresponse\u001b[0m\u001b[0;34m)\u001b[0m\u001b[0;34m\u001b[0m\u001b[0m\n\u001b[0m\u001b[1;32m    315\u001b[0m             response['value'] = self._unwrap_value(\n\u001b[1;32m    316\u001b[0m                 response.get('value', None))\n",
      "\u001b[0;32m~/.pyenv/versions/3.6.4/lib/python3.6/site-packages/selenium/webdriver/remote/errorhandler.py\u001b[0m in \u001b[0;36mcheck_response\u001b[0;34m(self, response)\u001b[0m\n\u001b[1;32m    240\u001b[0m                 \u001b[0malert_text\u001b[0m \u001b[0;34m=\u001b[0m \u001b[0mvalue\u001b[0m\u001b[0;34m[\u001b[0m\u001b[0;34m'alert'\u001b[0m\u001b[0;34m]\u001b[0m\u001b[0;34m.\u001b[0m\u001b[0mget\u001b[0m\u001b[0;34m(\u001b[0m\u001b[0;34m'text'\u001b[0m\u001b[0;34m)\u001b[0m\u001b[0;34m\u001b[0m\u001b[0m\n\u001b[1;32m    241\u001b[0m             \u001b[0;32mraise\u001b[0m \u001b[0mexception_class\u001b[0m\u001b[0;34m(\u001b[0m\u001b[0mmessage\u001b[0m\u001b[0;34m,\u001b[0m \u001b[0mscreen\u001b[0m\u001b[0;34m,\u001b[0m \u001b[0mstacktrace\u001b[0m\u001b[0;34m,\u001b[0m \u001b[0malert_text\u001b[0m\u001b[0;34m)\u001b[0m\u001b[0;34m\u001b[0m\u001b[0m\n\u001b[0;32m--> 242\u001b[0;31m         \u001b[0;32mraise\u001b[0m \u001b[0mexception_class\u001b[0m\u001b[0;34m(\u001b[0m\u001b[0mmessage\u001b[0m\u001b[0;34m,\u001b[0m \u001b[0mscreen\u001b[0m\u001b[0;34m,\u001b[0m \u001b[0mstacktrace\u001b[0m\u001b[0;34m)\u001b[0m\u001b[0;34m\u001b[0m\u001b[0m\n\u001b[0m\u001b[1;32m    243\u001b[0m \u001b[0;34m\u001b[0m\u001b[0m\n\u001b[1;32m    244\u001b[0m     \u001b[0;32mdef\u001b[0m \u001b[0m_value_or_default\u001b[0m\u001b[0;34m(\u001b[0m\u001b[0mself\u001b[0m\u001b[0;34m,\u001b[0m \u001b[0mobj\u001b[0m\u001b[0;34m,\u001b[0m \u001b[0mkey\u001b[0m\u001b[0;34m,\u001b[0m \u001b[0mdefault\u001b[0m\u001b[0;34m)\u001b[0m\u001b[0;34m:\u001b[0m\u001b[0;34m\u001b[0m\u001b[0m\n",
      "\u001b[0;31mStaleElementReferenceException\u001b[0m: Message: stale element reference: element is not attached to the page document\n  (Session info: chrome=67.0.3396.87)\n  (Driver info: chromedriver=2.40.565386 (45a059dc425e08165f9a10324bd1380cc13ca363),platform=Mac OS X 10.12.6 x86_64)\n"
     ]
    }
   ],
   "source": [
    "#The above didn't seem particularly hard... but it's only iterating through that title field, preventing\n",
    "#any further scraping...\n",
    "'''driver.get('https://jportal.mdcourts.gov/license/index_disclaimer.jsp')\n",
    "driver.find_element_by_id('checkbox').click()\n",
    "driver.find_element_by_tag_name('form').submit()\n",
    "driver.get('https://jportal.mdcourts.gov/license/pbPublicSearch.jsp')\n",
    "    \n",
    "select = Select(driver.find_element_by_id('slcJurisdiction'))\n",
    "select.select_by_visible_text('Statewide')\n",
    "'''\n",
    "for store in driver.find_elements_by_class_name('searchfieldtitle'):\n",
    "    print('------')\n",
    "    if store.text[-9:] == 'Pending *':\n",
    "        print(store.text.replace(' Pending *','')[3:])\n",
    "        print('Pending')\n",
    "    else:\n",
    "        print(store.find_element_by_tag_name('img').get_attribute('alt').replace('Click for Detail of ',''))\n",
    "        store.click()\n",
    "        time.sleep(1)\n",
    "        print(driver.find_element_by_class_name('tablecelltext').text)\n",
    "        driver.back()\n",
    "        time.sleep(2)\n",
    "    print(store.text)\n",
    "    \n"
   ]
  },
  {
   "cell_type": "markdown",
   "metadata": {
    "collapsed": true
   },
   "source": [
    "Okay, now let's get to action. For each result, **click the link to the detail page** and print out the following information:\n",
    "\n",
    "- Mailing address\n",
    "- Location address\n",
    "- License information (you can keep it as one field)\n",
    "- Total amount paid\n",
    "- Issued by\n",
    "- If you're feeling crazy, get the licenses, too.\n",
    "\n",
    "If it doesn't have a detail page, just print out the name and that's all we need.\n",
    "\n",
    "- *TIP: When you're done getting the information, you probably want to click back to the search results*\n",
    "- *TIP: You might enjoy `find_element_by_partial_link_text` to do that*\n",
    "- *TIP: Licenses can be acquired by doing some really odd list slicing - think about where it starts and where it ends, relative to the beginning and end of everything.*\n",
    "\n",
    "> **IMPORTANT NOTE:** This is doomed. It's useful to do, but your current process is doomed. Once you get a `stale element reference` error move on to the next cell."
   ]
  },
  {
   "cell_type": "code",
   "execution_count": 17,
   "metadata": {},
   "outputs": [
    {
     "name": "stdout",
     "output_type": "stream",
     "text": [
      "------\n",
      "VAPE IT STORE II\n",
      "AMIN NARGIS\n",
      "1104 PLANTERS PLACE\n",
      "SALISBURY, MD 21804 License Status: Issued\n",
      "License No.: 22375606\n",
      "Control No.: 22884439\n",
      "Date of Issue: 4/27/2018\n",
      "Months Paid: 12\n",
      "Exp. Date: 4/30/2019\n",
      "Subdivision: 22 Salisbury\n"
     ]
    },
    {
     "ename": "StaleElementReferenceException",
     "evalue": "Message: stale element reference: element is not attached to the page document\n  (Session info: chrome=67.0.3396.87)\n  (Driver info: chromedriver=2.40.565386 (45a059dc425e08165f9a10324bd1380cc13ca363),platform=Mac OS X 10.12.6 x86_64)\n",
     "output_type": "error",
     "traceback": [
      "\u001b[0;31m---------------------------------------------------------------------------\u001b[0m",
      "\u001b[0;31mStaleElementReferenceException\u001b[0m            Traceback (most recent call last)",
      "\u001b[0;32m<ipython-input-17-c26c83cdc5f7>\u001b[0m in \u001b[0;36m<module>\u001b[0;34m()\u001b[0m\n\u001b[1;32m     19\u001b[0m         \u001b[0mdriver\u001b[0m\u001b[0;34m.\u001b[0m\u001b[0mback\u001b[0m\u001b[0;34m(\u001b[0m\u001b[0;34m)\u001b[0m\u001b[0;34m\u001b[0m\u001b[0m\n\u001b[1;32m     20\u001b[0m         \u001b[0mtime\u001b[0m\u001b[0;34m.\u001b[0m\u001b[0msleep\u001b[0m\u001b[0;34m(\u001b[0m\u001b[0;36m2\u001b[0m\u001b[0;34m)\u001b[0m\u001b[0;34m\u001b[0m\u001b[0m\n\u001b[0;32m---> 21\u001b[0;31m     \u001b[0mprint\u001b[0m\u001b[0;34m(\u001b[0m\u001b[0mstore\u001b[0m\u001b[0;34m.\u001b[0m\u001b[0mtext\u001b[0m\u001b[0;34m)\u001b[0m\u001b[0;34m\u001b[0m\u001b[0m\n\u001b[0m",
      "\u001b[0;32m~/.pyenv/versions/3.6.4/lib/python3.6/site-packages/selenium/webdriver/remote/webelement.py\u001b[0m in \u001b[0;36mtext\u001b[0;34m(self)\u001b[0m\n\u001b[1;32m     74\u001b[0m     \u001b[0;32mdef\u001b[0m \u001b[0mtext\u001b[0m\u001b[0;34m(\u001b[0m\u001b[0mself\u001b[0m\u001b[0;34m)\u001b[0m\u001b[0;34m:\u001b[0m\u001b[0;34m\u001b[0m\u001b[0m\n\u001b[1;32m     75\u001b[0m         \u001b[0;34m\"\"\"The text of the element.\"\"\"\u001b[0m\u001b[0;34m\u001b[0m\u001b[0m\n\u001b[0;32m---> 76\u001b[0;31m         \u001b[0;32mreturn\u001b[0m \u001b[0mself\u001b[0m\u001b[0;34m.\u001b[0m\u001b[0m_execute\u001b[0m\u001b[0;34m(\u001b[0m\u001b[0mCommand\u001b[0m\u001b[0;34m.\u001b[0m\u001b[0mGET_ELEMENT_TEXT\u001b[0m\u001b[0;34m)\u001b[0m\u001b[0;34m[\u001b[0m\u001b[0;34m'value'\u001b[0m\u001b[0;34m]\u001b[0m\u001b[0;34m\u001b[0m\u001b[0m\n\u001b[0m\u001b[1;32m     77\u001b[0m \u001b[0;34m\u001b[0m\u001b[0m\n\u001b[1;32m     78\u001b[0m     \u001b[0;32mdef\u001b[0m \u001b[0mclick\u001b[0m\u001b[0;34m(\u001b[0m\u001b[0mself\u001b[0m\u001b[0;34m)\u001b[0m\u001b[0;34m:\u001b[0m\u001b[0;34m\u001b[0m\u001b[0m\n",
      "\u001b[0;32m~/.pyenv/versions/3.6.4/lib/python3.6/site-packages/selenium/webdriver/remote/webelement.py\u001b[0m in \u001b[0;36m_execute\u001b[0;34m(self, command, params)\u001b[0m\n\u001b[1;32m    626\u001b[0m             \u001b[0mparams\u001b[0m \u001b[0;34m=\u001b[0m \u001b[0;34m{\u001b[0m\u001b[0;34m}\u001b[0m\u001b[0;34m\u001b[0m\u001b[0m\n\u001b[1;32m    627\u001b[0m         \u001b[0mparams\u001b[0m\u001b[0;34m[\u001b[0m\u001b[0;34m'id'\u001b[0m\u001b[0;34m]\u001b[0m \u001b[0;34m=\u001b[0m \u001b[0mself\u001b[0m\u001b[0;34m.\u001b[0m\u001b[0m_id\u001b[0m\u001b[0;34m\u001b[0m\u001b[0m\n\u001b[0;32m--> 628\u001b[0;31m         \u001b[0;32mreturn\u001b[0m \u001b[0mself\u001b[0m\u001b[0;34m.\u001b[0m\u001b[0m_parent\u001b[0m\u001b[0;34m.\u001b[0m\u001b[0mexecute\u001b[0m\u001b[0;34m(\u001b[0m\u001b[0mcommand\u001b[0m\u001b[0;34m,\u001b[0m \u001b[0mparams\u001b[0m\u001b[0;34m)\u001b[0m\u001b[0;34m\u001b[0m\u001b[0m\n\u001b[0m\u001b[1;32m    629\u001b[0m \u001b[0;34m\u001b[0m\u001b[0m\n\u001b[1;32m    630\u001b[0m     \u001b[0;32mdef\u001b[0m \u001b[0mfind_element\u001b[0m\u001b[0;34m(\u001b[0m\u001b[0mself\u001b[0m\u001b[0;34m,\u001b[0m \u001b[0mby\u001b[0m\u001b[0;34m=\u001b[0m\u001b[0mBy\u001b[0m\u001b[0;34m.\u001b[0m\u001b[0mID\u001b[0m\u001b[0;34m,\u001b[0m \u001b[0mvalue\u001b[0m\u001b[0;34m=\u001b[0m\u001b[0;32mNone\u001b[0m\u001b[0;34m)\u001b[0m\u001b[0;34m:\u001b[0m\u001b[0;34m\u001b[0m\u001b[0m\n",
      "\u001b[0;32m~/.pyenv/versions/3.6.4/lib/python3.6/site-packages/selenium/webdriver/remote/webdriver.py\u001b[0m in \u001b[0;36mexecute\u001b[0;34m(self, driver_command, params)\u001b[0m\n\u001b[1;32m    312\u001b[0m         \u001b[0mresponse\u001b[0m \u001b[0;34m=\u001b[0m \u001b[0mself\u001b[0m\u001b[0;34m.\u001b[0m\u001b[0mcommand_executor\u001b[0m\u001b[0;34m.\u001b[0m\u001b[0mexecute\u001b[0m\u001b[0;34m(\u001b[0m\u001b[0mdriver_command\u001b[0m\u001b[0;34m,\u001b[0m \u001b[0mparams\u001b[0m\u001b[0;34m)\u001b[0m\u001b[0;34m\u001b[0m\u001b[0m\n\u001b[1;32m    313\u001b[0m         \u001b[0;32mif\u001b[0m \u001b[0mresponse\u001b[0m\u001b[0;34m:\u001b[0m\u001b[0;34m\u001b[0m\u001b[0m\n\u001b[0;32m--> 314\u001b[0;31m             \u001b[0mself\u001b[0m\u001b[0;34m.\u001b[0m\u001b[0merror_handler\u001b[0m\u001b[0;34m.\u001b[0m\u001b[0mcheck_response\u001b[0m\u001b[0;34m(\u001b[0m\u001b[0mresponse\u001b[0m\u001b[0;34m)\u001b[0m\u001b[0;34m\u001b[0m\u001b[0m\n\u001b[0m\u001b[1;32m    315\u001b[0m             response['value'] = self._unwrap_value(\n\u001b[1;32m    316\u001b[0m                 response.get('value', None))\n",
      "\u001b[0;32m~/.pyenv/versions/3.6.4/lib/python3.6/site-packages/selenium/webdriver/remote/errorhandler.py\u001b[0m in \u001b[0;36mcheck_response\u001b[0;34m(self, response)\u001b[0m\n\u001b[1;32m    240\u001b[0m                 \u001b[0malert_text\u001b[0m \u001b[0;34m=\u001b[0m \u001b[0mvalue\u001b[0m\u001b[0;34m[\u001b[0m\u001b[0;34m'alert'\u001b[0m\u001b[0;34m]\u001b[0m\u001b[0;34m.\u001b[0m\u001b[0mget\u001b[0m\u001b[0;34m(\u001b[0m\u001b[0;34m'text'\u001b[0m\u001b[0;34m)\u001b[0m\u001b[0;34m\u001b[0m\u001b[0m\n\u001b[1;32m    241\u001b[0m             \u001b[0;32mraise\u001b[0m \u001b[0mexception_class\u001b[0m\u001b[0;34m(\u001b[0m\u001b[0mmessage\u001b[0m\u001b[0;34m,\u001b[0m \u001b[0mscreen\u001b[0m\u001b[0;34m,\u001b[0m \u001b[0mstacktrace\u001b[0m\u001b[0;34m,\u001b[0m \u001b[0malert_text\u001b[0m\u001b[0;34m)\u001b[0m\u001b[0;34m\u001b[0m\u001b[0m\n\u001b[0;32m--> 242\u001b[0;31m         \u001b[0;32mraise\u001b[0m \u001b[0mexception_class\u001b[0m\u001b[0;34m(\u001b[0m\u001b[0mmessage\u001b[0m\u001b[0;34m,\u001b[0m \u001b[0mscreen\u001b[0m\u001b[0;34m,\u001b[0m \u001b[0mstacktrace\u001b[0m\u001b[0;34m)\u001b[0m\u001b[0;34m\u001b[0m\u001b[0m\n\u001b[0m\u001b[1;32m    243\u001b[0m \u001b[0;34m\u001b[0m\u001b[0m\n\u001b[1;32m    244\u001b[0m     \u001b[0;32mdef\u001b[0m \u001b[0m_value_or_default\u001b[0m\u001b[0;34m(\u001b[0m\u001b[0mself\u001b[0m\u001b[0;34m,\u001b[0m \u001b[0mobj\u001b[0m\u001b[0;34m,\u001b[0m \u001b[0mkey\u001b[0m\u001b[0;34m,\u001b[0m \u001b[0mdefault\u001b[0m\u001b[0;34m)\u001b[0m\u001b[0;34m:\u001b[0m\u001b[0;34m\u001b[0m\u001b[0m\n",
      "\u001b[0;31mStaleElementReferenceException\u001b[0m: Message: stale element reference: element is not attached to the page document\n  (Session info: chrome=67.0.3396.87)\n  (Driver info: chromedriver=2.40.565386 (45a059dc425e08165f9a10324bd1380cc13ca363),platform=Mac OS X 10.12.6 x86_64)\n"
     ]
    }
   ],
   "source": [
    "'''driver.get('https://jportal.mdcourts.gov/license/index_disclaimer.jsp')\n",
    "driver.find_element_by_id('checkbox').click()\n",
    "driver.find_element_by_tag_name('form').submit()\n",
    "driver.get('https://jportal.mdcourts.gov/license/pbPublicSearch.jsp')\n",
    "    \n",
    "select = Select(driver.find_element_by_id('slcJurisdiction'))\n",
    "select.select_by_visible_text('Statewide')\n",
    "'''\n",
    "for store in driver.find_elements_by_class_name('searchfieldtitle'):\n",
    "    print('------')\n",
    "    if store.text[-9:] == 'Pending *':\n",
    "        print(store.text.replace(' Pending *','')[3:])\n",
    "        print('Pending')\n",
    "    else:\n",
    "        print(store.find_element_by_tag_name('img').get_attribute('alt').replace('Click for Detail of ',''))\n",
    "        store.click()\n",
    "        time.sleep(1)\n",
    "        print(driver.find_element_by_class_name('tablecelltext').text)\n",
    "        driver.back()\n",
    "        time.sleep(2)\n",
    "    print(store.text)"
   ]
  },
  {
   "cell_type": "markdown",
   "metadata": {},
   "source": [
    "### Stale message reference\n",
    "\n",
    "Once you navigate away from a page, and you go back to it, you can't use the variables from the first time you were on the page. So, we got a list of results when we first visited, clicked to the details page, clicked back, and now our original list is \"stale.\"\n",
    "\n",
    "This is sad.\n",
    "\n",
    "Let's try this again: loop through the results and create a dataframe with `name` and `url` columns. And yes, some of them won't have URLs."
   ]
  },
  {
   "cell_type": "code",
   "execution_count": 18,
   "metadata": {},
   "outputs": [
    {
     "name": "stdout",
     "output_type": "stream",
     "text": [
      "------\n",
      "VAPE IT STORE II\n",
      "------\n",
      "VAPE IT STORE I\n",
      "------\n",
      "VAPEPAD THE\n",
      "------\n",
      "VAPE FROG\n",
      "Pending\n",
      "------\n",
      "VAPE FROG\n",
      "Pending\n"
     ]
    },
    {
     "data": {
      "text/html": [
       "<div>\n",
       "<style scoped>\n",
       "    .dataframe tbody tr th:only-of-type {\n",
       "        vertical-align: middle;\n",
       "    }\n",
       "\n",
       "    .dataframe tbody tr th {\n",
       "        vertical-align: top;\n",
       "    }\n",
       "\n",
       "    .dataframe thead th {\n",
       "        text-align: right;\n",
       "    }\n",
       "</style>\n",
       "<table border=\"1\" class=\"dataframe\">\n",
       "  <thead>\n",
       "    <tr style=\"text-align: right;\">\n",
       "      <th></th>\n",
       "      <th>name</th>\n",
       "      <th>url</th>\n",
       "    </tr>\n",
       "  </thead>\n",
       "  <tbody>\n",
       "    <tr>\n",
       "      <th>0</th>\n",
       "      <td>VAPE IT STORE II</td>\n",
       "      <td>https://jportal.mdcourts.gov/license/pbLicense...</td>\n",
       "    </tr>\n",
       "    <tr>\n",
       "      <th>1</th>\n",
       "      <td>VAPE IT STORE I</td>\n",
       "      <td>https://jportal.mdcourts.gov/license/pbLicense...</td>\n",
       "    </tr>\n",
       "    <tr>\n",
       "      <th>2</th>\n",
       "      <td>VAPEPAD THE</td>\n",
       "      <td>https://jportal.mdcourts.gov/license/pbLicense...</td>\n",
       "    </tr>\n",
       "    <tr>\n",
       "      <th>3</th>\n",
       "      <td>VAPE FROG</td>\n",
       "      <td></td>\n",
       "    </tr>\n",
       "    <tr>\n",
       "      <th>4</th>\n",
       "      <td>VAPE FROG</td>\n",
       "      <td></td>\n",
       "    </tr>\n",
       "  </tbody>\n",
       "</table>\n",
       "</div>"
      ],
      "text/plain": [
       "               name                                                url\n",
       "0  VAPE IT STORE II  https://jportal.mdcourts.gov/license/pbLicense...\n",
       "1   VAPE IT STORE I  https://jportal.mdcourts.gov/license/pbLicense...\n",
       "2       VAPEPAD THE  https://jportal.mdcourts.gov/license/pbLicense...\n",
       "3         VAPE FROG                                                   \n",
       "4         VAPE FROG                                                   "
      ]
     },
     "execution_count": 18,
     "metadata": {},
     "output_type": "execute_result"
    }
   ],
   "source": [
    "vape_list = []\n",
    "for store in driver.find_elements_by_class_name('searchfieldtitle'):\n",
    "    vape_dict = {}\n",
    "    print('------')\n",
    "    if store.text[-9:] == 'Pending *':\n",
    "        print(store.text.replace(' Pending *','')[3:])\n",
    "        print('Pending')\n",
    "        vape_dict['name'] = store.text.replace(' Pending *','')[3:]\n",
    "        vape_dict['url'] = ''\n",
    "    else:\n",
    "        print(store.find_element_by_tag_name('img').get_attribute('alt').replace('Click for Detail of ',''))\n",
    "        vape_dict['name'] = store.find_element_by_tag_name('img').get_attribute('alt').replace('Click for Detail of ','')\n",
    "        vape_dict['url'] = store.find_element_by_tag_name('a').get_attribute('href')\n",
    "    vape_list.append(vape_dict)\n",
    "\n",
    "df = pd.DataFrame(vape_list)\n",
    "df\n",
    "        "
   ]
  },
  {
   "cell_type": "markdown",
   "metadata": {},
   "source": [
    "### Getting all of the results\n",
    "\n",
    "After you've looped through the results on one page, we're going to want to go to the next page! Add a line to make it click the 'Next' button down at the bottom\n",
    "\n",
    "- *Tip: `find_element_by_partial_link_text` will be your friend*\n",
    "- *Tip: You might need to do the scrolling thing to get it onto the screen (and by that I mean, you WILL need to, so you should)*\n",
    "\n",
    "Confirm that it moves to the next page (it doesn't need to scrape anything yet)"
   ]
  },
  {
   "cell_type": "code",
   "execution_count": 19,
   "metadata": {},
   "outputs": [],
   "source": [
    "driver.get('https://jportal.mdcourts.gov/license/index_disclaimer.jsp')\n",
    "driver.find_element_by_id('checkbox').click()\n",
    "driver.find_element_by_tag_name('form').submit()\n",
    "driver.get('https://jportal.mdcourts.gov/license/pbPublicSearch.jsp')\n",
    "search_name = driver.find_element_by_id('txtTradeName')\n",
    "search_name.send_keys('VAP%')\n",
    "select = Select(driver.find_element_by_id('slcJurisdiction'))\n",
    "select.select_by_visible_text('Statewide')\n",
    "driver.find_element_by_tag_name('form').submit()\n",
    "\n",
    "\n",
    "next_button = driver.find_element_by_partial_link_text('Next ')\n",
    "driver.execute_script(\"arguments[0].scrollIntoView(true)\", next_button)\n",
    "next_button.click()"
   ]
  },
  {
   "cell_type": "code",
   "execution_count": 112,
   "metadata": {},
   "outputs": [],
   "source": []
  },
  {
   "cell_type": "markdown",
   "metadata": {},
   "source": [
    "### Wrapping with `while`\n",
    "\n",
    "> Go back to the first page of results before you try to run this\n",
    "\n",
    "You have a bunch of scraping code. It clicks the next button, then it stops. But you'd like it to go back up to the top! You can make that happen with a special `while` loop.\n",
    "\n",
    "```python\n",
    "while True:\n",
    "    # Scrape your stuff\n",
    "    # Click next button\n",
    "```\n",
    "\n",
    "This will go on FOREVER AND EVER until there is an error (when it can't find the Next button on the last page of results, you'll get an error).\n",
    "\n",
    "- *Tip: Print out \"Scraping a new page\" every time you visit a new page, just to check that it's working*"
   ]
  },
  {
   "cell_type": "code",
   "execution_count": 20,
   "metadata": {},
   "outputs": [
    {
     "name": "stdout",
     "output_type": "stream",
     "text": [
      "Scraping a new page\n",
      "Scraping a new page\n",
      "Scraping a new page\n",
      "Scraping a new page\n",
      "Scraping a new page\n",
      "Scraping a new page\n"
     ]
    },
    {
     "ename": "NoSuchElementException",
     "evalue": "Message: no such element: Unable to locate element: {\"method\":\"partial link text\",\"selector\":\"Next \"}\n  (Session info: chrome=67.0.3396.87)\n  (Driver info: chromedriver=2.40.565386 (45a059dc425e08165f9a10324bd1380cc13ca363),platform=Mac OS X 10.12.6 x86_64)\n",
     "output_type": "error",
     "traceback": [
      "\u001b[0;31m---------------------------------------------------------------------------\u001b[0m",
      "\u001b[0;31mNoSuchElementException\u001b[0m                    Traceback (most recent call last)",
      "\u001b[0;32m<ipython-input-20-4a242372f6db>\u001b[0m in \u001b[0;36m<module>\u001b[0;34m()\u001b[0m\n\u001b[1;32m     10\u001b[0m \u001b[0;34m\u001b[0m\u001b[0m\n\u001b[1;32m     11\u001b[0m \u001b[0;32mwhile\u001b[0m \u001b[0;32mTrue\u001b[0m\u001b[0;34m:\u001b[0m\u001b[0;34m\u001b[0m\u001b[0m\n\u001b[0;32m---> 12\u001b[0;31m     \u001b[0mnext_button\u001b[0m \u001b[0;34m=\u001b[0m \u001b[0mdriver\u001b[0m\u001b[0;34m.\u001b[0m\u001b[0mfind_element_by_partial_link_text\u001b[0m\u001b[0;34m(\u001b[0m\u001b[0;34m'Next '\u001b[0m\u001b[0;34m)\u001b[0m\u001b[0;34m\u001b[0m\u001b[0m\n\u001b[0m\u001b[1;32m     13\u001b[0m     \u001b[0mdriver\u001b[0m\u001b[0;34m.\u001b[0m\u001b[0mexecute_script\u001b[0m\u001b[0;34m(\u001b[0m\u001b[0;34m\"arguments[0].scrollIntoView(true)\"\u001b[0m\u001b[0;34m,\u001b[0m \u001b[0mnext_button\u001b[0m\u001b[0;34m)\u001b[0m\u001b[0;34m\u001b[0m\u001b[0m\n\u001b[1;32m     14\u001b[0m     \u001b[0mnext_button\u001b[0m\u001b[0;34m.\u001b[0m\u001b[0mclick\u001b[0m\u001b[0;34m(\u001b[0m\u001b[0;34m)\u001b[0m\u001b[0;34m\u001b[0m\u001b[0m\n",
      "\u001b[0;32m~/.pyenv/versions/3.6.4/lib/python3.6/site-packages/selenium/webdriver/remote/webdriver.py\u001b[0m in \u001b[0;36mfind_element_by_partial_link_text\u001b[0;34m(self, link_text)\u001b[0m\n\u001b[1;32m    453\u001b[0m             \u001b[0melement\u001b[0m \u001b[0;34m=\u001b[0m \u001b[0mdriver\u001b[0m\u001b[0;34m.\u001b[0m\u001b[0mfind_element_by_partial_link_text\u001b[0m\u001b[0;34m(\u001b[0m\u001b[0;34m'Sign'\u001b[0m\u001b[0;34m)\u001b[0m\u001b[0;34m\u001b[0m\u001b[0m\n\u001b[1;32m    454\u001b[0m         \"\"\"\n\u001b[0;32m--> 455\u001b[0;31m         \u001b[0;32mreturn\u001b[0m \u001b[0mself\u001b[0m\u001b[0;34m.\u001b[0m\u001b[0mfind_element\u001b[0m\u001b[0;34m(\u001b[0m\u001b[0mby\u001b[0m\u001b[0;34m=\u001b[0m\u001b[0mBy\u001b[0m\u001b[0;34m.\u001b[0m\u001b[0mPARTIAL_LINK_TEXT\u001b[0m\u001b[0;34m,\u001b[0m \u001b[0mvalue\u001b[0m\u001b[0;34m=\u001b[0m\u001b[0mlink_text\u001b[0m\u001b[0;34m)\u001b[0m\u001b[0;34m\u001b[0m\u001b[0m\n\u001b[0m\u001b[1;32m    456\u001b[0m \u001b[0;34m\u001b[0m\u001b[0m\n\u001b[1;32m    457\u001b[0m     \u001b[0;32mdef\u001b[0m \u001b[0mfind_elements_by_partial_link_text\u001b[0m\u001b[0;34m(\u001b[0m\u001b[0mself\u001b[0m\u001b[0;34m,\u001b[0m \u001b[0mlink_text\u001b[0m\u001b[0;34m)\u001b[0m\u001b[0;34m:\u001b[0m\u001b[0;34m\u001b[0m\u001b[0m\n",
      "\u001b[0;32m~/.pyenv/versions/3.6.4/lib/python3.6/site-packages/selenium/webdriver/remote/webdriver.py\u001b[0m in \u001b[0;36mfind_element\u001b[0;34m(self, by, value)\u001b[0m\n\u001b[1;32m    955\u001b[0m         return self.execute(Command.FIND_ELEMENT, {\n\u001b[1;32m    956\u001b[0m             \u001b[0;34m'using'\u001b[0m\u001b[0;34m:\u001b[0m \u001b[0mby\u001b[0m\u001b[0;34m,\u001b[0m\u001b[0;34m\u001b[0m\u001b[0m\n\u001b[0;32m--> 957\u001b[0;31m             'value': value})['value']\n\u001b[0m\u001b[1;32m    958\u001b[0m \u001b[0;34m\u001b[0m\u001b[0m\n\u001b[1;32m    959\u001b[0m     \u001b[0;32mdef\u001b[0m \u001b[0mfind_elements\u001b[0m\u001b[0;34m(\u001b[0m\u001b[0mself\u001b[0m\u001b[0;34m,\u001b[0m \u001b[0mby\u001b[0m\u001b[0;34m=\u001b[0m\u001b[0mBy\u001b[0m\u001b[0;34m.\u001b[0m\u001b[0mID\u001b[0m\u001b[0;34m,\u001b[0m \u001b[0mvalue\u001b[0m\u001b[0;34m=\u001b[0m\u001b[0;32mNone\u001b[0m\u001b[0;34m)\u001b[0m\u001b[0;34m:\u001b[0m\u001b[0;34m\u001b[0m\u001b[0m\n",
      "\u001b[0;32m~/.pyenv/versions/3.6.4/lib/python3.6/site-packages/selenium/webdriver/remote/webdriver.py\u001b[0m in \u001b[0;36mexecute\u001b[0;34m(self, driver_command, params)\u001b[0m\n\u001b[1;32m    312\u001b[0m         \u001b[0mresponse\u001b[0m \u001b[0;34m=\u001b[0m \u001b[0mself\u001b[0m\u001b[0;34m.\u001b[0m\u001b[0mcommand_executor\u001b[0m\u001b[0;34m.\u001b[0m\u001b[0mexecute\u001b[0m\u001b[0;34m(\u001b[0m\u001b[0mdriver_command\u001b[0m\u001b[0;34m,\u001b[0m \u001b[0mparams\u001b[0m\u001b[0;34m)\u001b[0m\u001b[0;34m\u001b[0m\u001b[0m\n\u001b[1;32m    313\u001b[0m         \u001b[0;32mif\u001b[0m \u001b[0mresponse\u001b[0m\u001b[0;34m:\u001b[0m\u001b[0;34m\u001b[0m\u001b[0m\n\u001b[0;32m--> 314\u001b[0;31m             \u001b[0mself\u001b[0m\u001b[0;34m.\u001b[0m\u001b[0merror_handler\u001b[0m\u001b[0;34m.\u001b[0m\u001b[0mcheck_response\u001b[0m\u001b[0;34m(\u001b[0m\u001b[0mresponse\u001b[0m\u001b[0;34m)\u001b[0m\u001b[0;34m\u001b[0m\u001b[0m\n\u001b[0m\u001b[1;32m    315\u001b[0m             response['value'] = self._unwrap_value(\n\u001b[1;32m    316\u001b[0m                 response.get('value', None))\n",
      "\u001b[0;32m~/.pyenv/versions/3.6.4/lib/python3.6/site-packages/selenium/webdriver/remote/errorhandler.py\u001b[0m in \u001b[0;36mcheck_response\u001b[0;34m(self, response)\u001b[0m\n\u001b[1;32m    240\u001b[0m                 \u001b[0malert_text\u001b[0m \u001b[0;34m=\u001b[0m \u001b[0mvalue\u001b[0m\u001b[0;34m[\u001b[0m\u001b[0;34m'alert'\u001b[0m\u001b[0;34m]\u001b[0m\u001b[0;34m.\u001b[0m\u001b[0mget\u001b[0m\u001b[0;34m(\u001b[0m\u001b[0;34m'text'\u001b[0m\u001b[0;34m)\u001b[0m\u001b[0;34m\u001b[0m\u001b[0m\n\u001b[1;32m    241\u001b[0m             \u001b[0;32mraise\u001b[0m \u001b[0mexception_class\u001b[0m\u001b[0;34m(\u001b[0m\u001b[0mmessage\u001b[0m\u001b[0;34m,\u001b[0m \u001b[0mscreen\u001b[0m\u001b[0;34m,\u001b[0m \u001b[0mstacktrace\u001b[0m\u001b[0;34m,\u001b[0m \u001b[0malert_text\u001b[0m\u001b[0;34m)\u001b[0m\u001b[0;34m\u001b[0m\u001b[0m\n\u001b[0;32m--> 242\u001b[0;31m         \u001b[0;32mraise\u001b[0m \u001b[0mexception_class\u001b[0m\u001b[0;34m(\u001b[0m\u001b[0mmessage\u001b[0m\u001b[0;34m,\u001b[0m \u001b[0mscreen\u001b[0m\u001b[0;34m,\u001b[0m \u001b[0mstacktrace\u001b[0m\u001b[0;34m)\u001b[0m\u001b[0;34m\u001b[0m\u001b[0m\n\u001b[0m\u001b[1;32m    243\u001b[0m \u001b[0;34m\u001b[0m\u001b[0m\n\u001b[1;32m    244\u001b[0m     \u001b[0;32mdef\u001b[0m \u001b[0m_value_or_default\u001b[0m\u001b[0;34m(\u001b[0m\u001b[0mself\u001b[0m\u001b[0;34m,\u001b[0m \u001b[0mobj\u001b[0m\u001b[0;34m,\u001b[0m \u001b[0mkey\u001b[0m\u001b[0;34m,\u001b[0m \u001b[0mdefault\u001b[0m\u001b[0;34m)\u001b[0m\u001b[0;34m:\u001b[0m\u001b[0;34m\u001b[0m\u001b[0m\n",
      "\u001b[0;31mNoSuchElementException\u001b[0m: Message: no such element: Unable to locate element: {\"method\":\"partial link text\",\"selector\":\"Next \"}\n  (Session info: chrome=67.0.3396.87)\n  (Driver info: chromedriver=2.40.565386 (45a059dc425e08165f9a10324bd1380cc13ca363),platform=Mac OS X 10.12.6 x86_64)\n"
     ]
    }
   ],
   "source": [
    "driver.get('https://jportal.mdcourts.gov/license/index_disclaimer.jsp')\n",
    "driver.find_element_by_id('checkbox').click()\n",
    "driver.find_element_by_tag_name('form').submit()\n",
    "driver.get('https://jportal.mdcourts.gov/license/pbPublicSearch.jsp')\n",
    "search_name = driver.find_element_by_id('txtTradeName')\n",
    "search_name.send_keys('VAP%')\n",
    "select = Select(driver.find_element_by_id('slcJurisdiction'))\n",
    "select.select_by_visible_text('Statewide')\n",
    "driver.find_element_by_tag_name('form').submit()\n",
    "\n",
    "while True:\n",
    "    next_button = driver.find_element_by_partial_link_text('Next ')\n",
    "    driver.execute_script(\"arguments[0].scrollIntoView(true)\", next_button)\n",
    "    next_button.click()\n",
    "    print('Scraping a new page')\n",
    "    "
   ]
  },
  {
   "cell_type": "markdown",
   "metadata": {},
   "source": [
    "### Making it perfect\n",
    "\n",
    "> Go back to the first page of results before you try to run this\n",
    "\n",
    "Wrap all of your code in a `try`/`except` so that it doesn't finish with an error and you'll be good to go.\n",
    "\n",
    "**Confirm your list has all of the vape shops in it.** If not, check where you are creating your empty list (`[]`) - if you do it in the wrong spot, it will overwrite your list every time you visit a page."
   ]
  },
  {
   "cell_type": "code",
   "execution_count": 21,
   "metadata": {},
   "outputs": [
    {
     "name": "stdout",
     "output_type": "stream",
     "text": [
      "VAPE IT STORE II\n",
      "VAPE IT STORE I\n",
      "VAPEPAD THE\n",
      "VAPE FROG\n",
      "VAPE FROG\n",
      "Scraping a new page\n",
      "VAPE LOFT THE\n",
      "VAPE N CIGAR\n",
      "VAPE DOJO\n",
      "VAPE HAVEN\n",
      "VAPORS LOUNGE\n",
      "Scraping a new page\n",
      "VAPORFI SOUTHSIDE\n",
      "VAPE DO JO\n",
      "VAPERTETMD\n",
      "VAPERTEKMD\n",
      "VAPORIOT\n",
      "Scraping a new page\n",
      "VAPE PLUS\n",
      "VAPE SOCIAL\n",
      "VAPE JUNGLE\n",
      "VAPE TIME\n",
      "VAPEBAR EXPESS\n",
      "Scraping a new page\n",
      "VAPEWERKS\n",
      "VAPIST MD\n",
      "VAPOR 99\n",
      "VAPOR ALLEY\n",
      "VAPOR EMPORIUM\n",
      "Scraping a new page\n",
      "VAPOR VILLA\n",
      "VAPOR VILLA\n",
      "VAPORS LOUNGE\n",
      "VAPE DOJO\n",
      "VAPE DOJO\n",
      "Scraping a new page\n",
      "VAPE DOJO\n",
      "VAPE DOJO\n",
      "VAPEZ YARDHOUSE\n",
      "VAPERS RING\n",
      "Last page folks\n"
     ]
    }
   ],
   "source": [
    "driver.get('https://jportal.mdcourts.gov/license/index_disclaimer.jsp')\n",
    "driver.find_element_by_id('checkbox').click()\n",
    "driver.find_element_by_tag_name('form').submit()\n",
    "driver.get('https://jportal.mdcourts.gov/license/pbPublicSearch.jsp')\n",
    "search_name = driver.find_element_by_id('txtTradeName')\n",
    "search_name.send_keys('VAP%')\n",
    "select = Select(driver.find_element_by_id('slcJurisdiction'))\n",
    "select.select_by_visible_text('Statewide')\n",
    "driver.find_element_by_tag_name('form').submit()\n",
    "\n",
    "vape_list = []\n",
    "\n",
    "try:\n",
    "    while True:\n",
    "        for store in driver.find_elements_by_class_name('searchlistitem'):\n",
    "            print(store.text)\n",
    "            vape_list.append(store.text)\n",
    "        next_button = driver.find_element_by_partial_link_text('Next ')\n",
    "        driver.execute_script(\"arguments[0].scrollIntoView(true)\", next_button)\n",
    "        next_button.click()\n",
    "        print('Scraping a new page')\n",
    "except:\n",
    "    print('Last page folks')\n",
    "\n"
   ]
  },
  {
   "cell_type": "code",
   "execution_count": 22,
   "metadata": {},
   "outputs": [
    {
     "name": "stdout",
     "output_type": "stream",
     "text": [
      "-------------\n",
      "VAPE IT STORE II\n",
      "-------------\n",
      "VAPE IT STORE I\n",
      "-------------\n",
      "VAPEPAD THE\n",
      "-------------\n",
      "VAPE FROG\n",
      "Pending\n",
      "-------------\n",
      "VAPE FROG\n",
      "Pending\n",
      "Scraping a new page\n",
      "-------------\n",
      "VAPE LOFT THE\n",
      "-------------\n",
      "VAPE N CIGAR\n",
      "-------------\n",
      "VAPE DOJO\n",
      "-------------\n",
      "VAPE HAVEN\n",
      "Pending\n",
      "-------------\n",
      " VAPORS LOUNGE\n",
      "Pending\n",
      "Scraping a new page\n",
      "-------------\n",
      "VAPORFI SOUTHSIDE\n",
      "-------------\n",
      "VAPE DO JO\n",
      "-------------\n",
      " VAPERTETMD\n",
      "Pending\n",
      "-------------\n",
      "VAPERTEKMD\n",
      "-------------\n",
      " VAPORIOT\n",
      "Pending\n",
      "Scraping a new page\n",
      "-------------\n",
      "VAPE PLUS\n",
      "-------------\n",
      "VAPE  SOCIAL\n",
      "-------------\n",
      "VAPE JUNGLE\n",
      "-------------\n",
      " VAPE TIME\n",
      "Pending\n",
      "-------------\n",
      " VAPEBAR EXPESS\n",
      "Pending\n",
      "Scraping a new page\n",
      "-------------\n",
      "VAPEWERKS\n",
      "-------------\n",
      "VAPIST MD\n",
      "-------------\n",
      " VAPOR 99\n",
      "Pending\n",
      "-------------\n",
      "VAPOR ALLEY\n",
      "-------------\n",
      "VAPOR EMPORIUM\n",
      "Scraping a new page\n",
      "-------------\n",
      "VAPOR VILLA\n",
      "-------------\n",
      "VAPOR VILLA\n",
      "-------------\n",
      "VAPORS LOUNGE\n",
      "-------------\n",
      "VAPE DOJO\n",
      "-------------\n",
      "VAPE DOJO\n",
      "Scraping a new page\n",
      "-------------\n",
      "VAPE DOJO\n",
      "-------------\n",
      "VAPE DOJO\n",
      "-------------\n",
      " VAPEZ YARDHOUSE\n",
      "Pending\n",
      "-------------\n",
      "VAPERS RING\n",
      "Last page folks\n"
     ]
    }
   ],
   "source": [
    "vape_list = []\n",
    "\n",
    "try:\n",
    "    while True:\n",
    "        for store in driver.find_elements_by_class_name('searchfieldtitle'):\n",
    "            vape_dict = {}\n",
    "            print('-------------')\n",
    "            if store.text[-9:] == 'Pending *':\n",
    "                print(store.text.replace(' Pending *','')[3:])\n",
    "                print('Pending')\n",
    "                vape_dict['name'] = store.text.replace(' Pending *','')[3:]\n",
    "                vape_dict['url'] = ''\n",
    "                vape_list.append(vape_dict)\n",
    "            else:\n",
    "                print(store.find_element_by_tag_name('img').get_attribute('alt').replace('Click for Detail of ',''))\n",
    "                vape_dict['name'] = store.find_element_by_tag_name('img').get_attribute('alt').replace('Click for Detail of ','')\n",
    "                vape_dict['url'] = store.find_element_by_tag_name('a').get_attribute('href') \n",
    "                vape_list.append(vape_dict)\n",
    "        next_button = driver.find_element_by_partial_link_text('Next ')\n",
    "        driver.execute_script(\"arguments[0].scrollIntoView(true)\", next_button)\n",
    "        next_button.click()\n",
    "        print('Scraping a new page')\n",
    "except:\n",
    "    print('Last page folks')"
   ]
  },
  {
   "cell_type": "code",
   "execution_count": 23,
   "metadata": {},
   "outputs": [
    {
     "data": {
      "text/plain": [
       "[{'name': 'VAPE IT STORE II',\n",
       "  'url': 'https://jportal.mdcourts.gov/license/pbLicenseDetail.jsp?owi=pUdvbOe9%2BNY%3D'},\n",
       " {'name': 'VAPE IT STORE I',\n",
       "  'url': 'https://jportal.mdcourts.gov/license/pbLicenseDetail.jsp?owi=j5g0Oi3UWXk%3D'},\n",
       " {'name': 'VAPEPAD THE',\n",
       "  'url': 'https://jportal.mdcourts.gov/license/pbLicenseDetail.jsp?owi=K81VUcRi3L0%3D'},\n",
       " {'name': 'VAPE FROG', 'url': ''},\n",
       " {'name': 'VAPE FROG', 'url': ''},\n",
       " {'name': 'VAPE LOFT THE',\n",
       "  'url': 'https://jportal.mdcourts.gov/license/pbLicenseDetail.jsp?owi=nCgDu4%2BQX7o%3D'},\n",
       " {'name': 'VAPE N CIGAR',\n",
       "  'url': 'https://jportal.mdcourts.gov/license/pbLicenseDetail.jsp?owi=ZOLktHBqjFI%3D'},\n",
       " {'name': 'VAPE DOJO',\n",
       "  'url': 'https://jportal.mdcourts.gov/license/pbLicenseDetail.jsp?owi=%2FHTYPdv0S9M%3D'},\n",
       " {'name': 'VAPE HAVEN', 'url': ''},\n",
       " {'name': ' VAPORS LOUNGE', 'url': ''},\n",
       " {'name': 'VAPORFI SOUTHSIDE',\n",
       "  'url': 'https://jportal.mdcourts.gov/license/pbLicenseDetail.jsp?owi=u25juCqYM94%3D'},\n",
       " {'name': 'VAPE DO JO',\n",
       "  'url': 'https://jportal.mdcourts.gov/license/pbLicenseDetail.jsp?owi=1vBVHhUbH9w%3D'},\n",
       " {'name': ' VAPERTETMD', 'url': ''},\n",
       " {'name': 'VAPERTEKMD',\n",
       "  'url': 'https://jportal.mdcourts.gov/license/pbLicenseDetail.jsp?owi=yJkYM7E5aAw%3D'},\n",
       " {'name': ' VAPORIOT', 'url': ''},\n",
       " {'name': 'VAPE PLUS',\n",
       "  'url': 'https://jportal.mdcourts.gov/license/pbLicenseDetail.jsp?owi=0dB%2FyzistEg%3D'},\n",
       " {'name': 'VAPE  SOCIAL',\n",
       "  'url': 'https://jportal.mdcourts.gov/license/pbLicenseDetail.jsp?owi=OOElMxmbMt4%3D'},\n",
       " {'name': 'VAPE JUNGLE',\n",
       "  'url': 'https://jportal.mdcourts.gov/license/pbLicenseDetail.jsp?owi=uhwp2Mw5384%3D'},\n",
       " {'name': ' VAPE TIME', 'url': ''},\n",
       " {'name': ' VAPEBAR EXPESS', 'url': ''},\n",
       " {'name': 'VAPEWERKS',\n",
       "  'url': 'https://jportal.mdcourts.gov/license/pbLicenseDetail.jsp?owi=rq5o%2B55VwHU%3D'},\n",
       " {'name': 'VAPIST MD',\n",
       "  'url': 'https://jportal.mdcourts.gov/license/pbLicenseDetail.jsp?owi=I6KyT1A70Lg%3D'},\n",
       " {'name': ' VAPOR 99', 'url': ''},\n",
       " {'name': 'VAPOR ALLEY',\n",
       "  'url': 'https://jportal.mdcourts.gov/license/pbLicenseDetail.jsp?owi=dqaDPGZVQ1E%3D'},\n",
       " {'name': 'VAPOR EMPORIUM',\n",
       "  'url': 'https://jportal.mdcourts.gov/license/pbLicenseDetail.jsp?owi=yk4V4GZ1mfM%3D'},\n",
       " {'name': 'VAPOR VILLA',\n",
       "  'url': 'https://jportal.mdcourts.gov/license/pbLicenseDetail.jsp?owi=SD9%2F71TaV%2Fo%3D'},\n",
       " {'name': 'VAPOR VILLA',\n",
       "  'url': 'https://jportal.mdcourts.gov/license/pbLicenseDetail.jsp?owi=HwhPvcf9Hl0%3D'},\n",
       " {'name': 'VAPORS LOUNGE',\n",
       "  'url': 'https://jportal.mdcourts.gov/license/pbLicenseDetail.jsp?owi=9t9iG6yPWK0%3D'},\n",
       " {'name': 'VAPE DOJO',\n",
       "  'url': 'https://jportal.mdcourts.gov/license/pbLicenseDetail.jsp?owi=aAcbwNHAO9o%3D'},\n",
       " {'name': 'VAPE DOJO',\n",
       "  'url': 'https://jportal.mdcourts.gov/license/pbLicenseDetail.jsp?owi=uqQvFEu4KgQ%3D'},\n",
       " {'name': 'VAPE DOJO',\n",
       "  'url': 'https://jportal.mdcourts.gov/license/pbLicenseDetail.jsp?owi=pURBOM2I7wQ%3D'},\n",
       " {'name': 'VAPE DOJO',\n",
       "  'url': 'https://jportal.mdcourts.gov/license/pbLicenseDetail.jsp?owi=VTKb5i2yiwg%3D'},\n",
       " {'name': ' VAPEZ YARDHOUSE', 'url': ''},\n",
       " {'name': 'VAPERS RING',\n",
       "  'url': 'https://jportal.mdcourts.gov/license/pbLicenseDetail.jsp?owi=RGJLQC6z7SQ%3D'}]"
      ]
     },
     "execution_count": 23,
     "metadata": {},
     "output_type": "execute_result"
    }
   ],
   "source": [
    "vape_list"
   ]
  },
  {
   "cell_type": "markdown",
   "metadata": {},
   "source": [
    "### Save this data as a csv\n",
    "\n",
    "The filename should be `vape-shops-basic.csv`."
   ]
  },
  {
   "cell_type": "code",
   "execution_count": 24,
   "metadata": {},
   "outputs": [],
   "source": [
    "df = pd.DataFrame(vape_list)"
   ]
  },
  {
   "cell_type": "code",
   "execution_count": 25,
   "metadata": {},
   "outputs": [],
   "source": [
    "df.to_csv('vape_shops_basic.csv', index=False)"
   ]
  },
  {
   "cell_type": "markdown",
   "metadata": {},
   "source": [
    "# Okay, let's scrape!\n",
    "\n",
    "All right, get the actual data!\n",
    "\n",
    "### Look at the URL of your first row\n",
    "\n",
    "- *TIP: Remember `pd.set_option('display.max_colwidth', -1)` will let you see alllll of your strings*"
   ]
  },
  {
   "cell_type": "code",
   "execution_count": 26,
   "metadata": {},
   "outputs": [],
   "source": [
    "pd.set_option('display.max_colwidth', -1)"
   ]
  },
  {
   "cell_type": "code",
   "execution_count": 27,
   "metadata": {},
   "outputs": [
    {
     "data": {
      "text/plain": [
       "'https://jportal.mdcourts.gov/license/pbLicenseDetail.jsp?owi=pUdvbOe9%2BNY%3D'"
      ]
     },
     "execution_count": 27,
     "metadata": {},
     "output_type": "execute_result"
    }
   ],
   "source": [
    "df.url[0]"
   ]
  },
  {
   "cell_type": "code",
   "execution_count": null,
   "metadata": {},
   "outputs": [],
   "source": []
  },
  {
   "cell_type": "markdown",
   "metadata": {},
   "source": [
    "### Use Selenium to visit that page"
   ]
  },
  {
   "cell_type": "code",
   "execution_count": 28,
   "metadata": {},
   "outputs": [],
   "source": [
    "driver.get(df.url[0])"
   ]
  },
  {
   "cell_type": "code",
   "execution_count": null,
   "metadata": {},
   "outputs": [],
   "source": []
  },
  {
   "cell_type": "markdown",
   "metadata": {},
   "source": [
    "### Now, just like you did before, grab the additional data\n",
    "\n",
    "You should probably save it into a dictionary! Don't try to put it into the dataframe yet, though. You want:\n",
    "\n",
    "- Mailing address\n",
    "- Location address\n",
    "- License information (you can keep it as one field)\n",
    "- Total amount paid\n",
    "- Issued by\n",
    "- If you're feeling crazy, get the licenses, too.\n",
    "\n",
    ".\n",
    "\n",
    "- *TIP: Licenses can be acquired by doing some really odd list slicing - think about where it starts and where it ends, relative to the beginning and end of everything.*\n",
    "- *TIP: If you've gotten addicted to xpath, total amount paid and issued by might not work with it when doing other shops. You'll want to test it!*"
   ]
  },
  {
   "cell_type": "code",
   "execution_count": 29,
   "metadata": {},
   "outputs": [
    {
     "data": {
      "text/plain": [
       "{'mailing_address': 'AMIN NARGIS\\n1104 PLANTERS PLACE\\nSALISBURY, MD 21804',\n",
       " 'location_address': 'VAPE IT STORE II\\n1015 S SALISBURY BLVD\\nSALISBURY, MD 21801',\n",
       " 'license_info': ['License Status: Issued',\n",
       "  'License No.: 22375606',\n",
       "  'Control No.: 22884439',\n",
       "  'Date of Issue: 4/27/2018',\n",
       "  'Months Paid: 12',\n",
       "  'Exp. Date: 4/30/2019',\n",
       "  'Subdivision: 22 Salisbury'],\n",
       " 'issued_by': 'WICOMICO COUNTY, CLERK OF CIRCUIT COURT\\nP.O. BOX 198\\nSALISBURY, MARYLAND 21803-0198',\n",
       " 'licenses': ['OTHER TOBACCO PROD RETLR', 'CHAIN STORE', \"TRADER'S LICENSE\"],\n",
       " 'total_amount_paid': '$ 41.00'}"
      ]
     },
     "execution_count": 29,
     "metadata": {},
     "output_type": "execute_result"
    }
   ],
   "source": [
    "vape_dict = {}\n",
    "vape_dict['mailing_address'] = driver.find_element_by_xpath('/html/body/table[2]/tbody/tr[4]/td[2]/table[1]/tbody/tr[3]/td[1]').text\n",
    "vape_dict['location_address'] = driver.find_element_by_xpath('/html/body/table[2]/tbody/tr[4]/td[2]/table[1]/tbody/tr[5]/td').text\n",
    "vape_dict['license_info'] = driver.find_element_by_xpath('/html/body/table[2]/tbody/tr[4]/td[2]/table[1]/tbody/tr[3]/td[2]').text.split('\\n')\n",
    "#vape_dict['total_amount_paid'] = driver.find_element_by_xpath('/html/body/table[2]/tbody/tr[4]/td[2]/table[2]/tbody/tr[8]/td[2]').text\n",
    "vape_dict['issued_by'] = driver.find_element_by_xpath('/html/body/table[2]/tbody/tr[4]/td[2]/table[3]/tbody/tr[2]/td').text\n",
    "vape_dict['licenses'] = [link.text for link in driver.find_elements_by_tag_name('a')[10:-16]]\n",
    "vape_dict['total_amount_paid'] = driver.find_elements_by_class_name('rt')[-1].text\n",
    "vape_dict"
   ]
  },
  {
   "cell_type": "markdown",
   "metadata": {},
   "source": [
    "### Move all of this into one cell\n",
    "\n",
    "It should visit the URL, then grab the data and put it into a dictionary."
   ]
  },
  {
   "cell_type": "code",
   "execution_count": 48,
   "metadata": {},
   "outputs": [
    {
     "data": {
      "text/plain": [
       "{'mailing_address': 'ANJ DISTRIBUTIONS LLC\\n2504 ORCHARD KNOLL WAY\\nODENTON, MD 21113',\n",
       " 'location_address': 'VAPEPAD THE\\n2299 JOHNS HOPKINS ROAD\\nGAMBRILLS, MD 21054',\n",
       " 'license_info': ['License Status: Issued',\n",
       "  'License No.: 02304705',\n",
       "  'Control No.: 02685930',\n",
       "  'Date of Issue: 4/05/2018',\n",
       "  'Months Paid: 12',\n",
       "  'Exp. Date: 4/30/2019',\n",
       "  'Subdivision: 02 Anne Arundel County'],\n",
       " 'issued_by': 'ROBERT P. DUCKWORTH, CLERK OF CIRCUIT COURT\\n8 CHURCH CIRCLE, ROOM H-101\\nANNAPOLIS, MARYLAND 21401',\n",
       " 'licenses': [\"TRADER'S LICENSE\"],\n",
       " 'total_amount_paid': '$ 94.00'}"
      ]
     },
     "execution_count": 48,
     "metadata": {},
     "output_type": "execute_result"
    }
   ],
   "source": [
    "\n",
    "\n",
    "driver.get(df.url[2]) #Obvi we'll change the input here shortly.\n",
    "\n",
    "vape_dict = {}\n",
    "vape_dict['mailing_address'] = driver.find_element_by_xpath('/html/body/table[2]/tbody/tr[4]/td[2]/table[1]/tbody/tr[3]/td[1]').text\n",
    "vape_dict['location_address'] = driver.find_element_by_xpath('/html/body/table[2]/tbody/tr[4]/td[2]/table[1]/tbody/tr[5]/td').text\n",
    "vape_dict['license_info'] = driver.find_element_by_xpath('/html/body/table[2]/tbody/tr[4]/td[2]/table[1]/tbody/tr[3]/td[2]').text.split('\\n')\n",
    "vape_dict['issued_by'] = driver.find_element_by_xpath('/html/body/table[2]/tbody/tr[4]/td[2]/table[3]/tbody/tr[2]/td').text\n",
    "vape_dict['licenses'] = [link.text for link in driver.find_elements_by_tag_name('a')[10:-16]]\n",
    "vape_dict['total_amount_paid'] = driver.find_elements_by_class_name('rt')[-1].text\n",
    "\n",
    "vape_dict"
   ]
  },
  {
   "cell_type": "markdown",
   "metadata": {},
   "source": [
    "### Change it into a function\n",
    "\n",
    "You'll want to have this function accept a `row`, and send back a `pd.Series`. You can just use `pd.Series(your_dictionary)` (but it better have a better name than `your_dictionary`!).\n",
    "\n",
    "- *TIP: Make sure you `return` something!*\n",
    "- *TIP: Make sure you change everything to reflect the row's url, not the URL you typed in*"
   ]
  },
  {
   "cell_type": "code",
   "execution_count": 40,
   "metadata": {},
   "outputs": [
    {
     "data": {
      "text/plain": [
       "'https://jportal.mdcourts.gov/license/pbLicenseDetail.jsp?owi=j5g0Oi3UWXk%3D'"
      ]
     },
     "execution_count": 40,
     "metadata": {},
     "output_type": "execute_result"
    }
   ],
   "source": [
    "df.url[1]"
   ]
  },
  {
   "cell_type": "code",
   "execution_count": 74,
   "metadata": {},
   "outputs": [],
   "source": [
    "def vape_scrape(row):\n",
    "    try:\n",
    "        driver.get(row.url) \n",
    "        time.sleep(1)\n",
    "        vape_dict = {}\n",
    "        vape_dict['mailing_address'] = driver.find_element_by_xpath('/html/body/table[2]/tbody/tr[4]/td[2]/table[1]/tbody/tr[3]/td[1]').text\n",
    "        vape_dict['location_address'] = driver.find_element_by_xpath('/html/body/table[2]/tbody/tr[4]/td[2]/table[1]/tbody/tr[5]/td').text\n",
    "        vape_dict['license_info'] = driver.find_element_by_xpath('/html/body/table[2]/tbody/tr[4]/td[2]/table[1]/tbody/tr[3]/td[2]').text.split('\\n')\n",
    "        vape_dict['issued_by'] = driver.find_element_by_xpath('/html/body/table[2]/tbody/tr[4]/td[2]/table[3]/tbody/tr[2]/td').text\n",
    "        vape_dict['licenses'] = [link.text for link in driver.find_elements_by_tag_name('a')[10:-16]]\n",
    "        vape_dict['total_amount_paid'] = driver.find_elements_by_class_name('rt')[-1].text\n",
    "        return pd.Series(vape_dict)\n",
    "    except:\n",
    "        return pd.Series({})"
   ]
  },
  {
   "cell_type": "markdown",
   "metadata": {},
   "source": [
    "### Use your dataframe and `.apply` to pull all of the data from the vape shops\n",
    "\n",
    "Once you know it's working, use the whole \n",
    "\n",
    "- *TIP: Try using it with `.head(3)` first*\n",
    "- *TIP: You'll want to use `.apply` with your new function*\n",
    "- *TIP: Issued By and Total Paid are goign to give you problems if you tried to use xpath! Try checking the classes and think about find_elementSSSSS and working backwards instead of forwards.*\n",
    "- *TIP: You might need a `try`/`except`*\n",
    "- *TIP: Make sure you're using `axis=1`*\n",
    "- *TIP: Use `.join` the big thing with all of the `dfs` - make sure you name them right!*"
   ]
  },
  {
   "cell_type": "code",
   "execution_count": 86,
   "metadata": {},
   "outputs": [],
   "source": [
    "df_test = df.head(3).apply(vape_scrape, axis=1).join(df)"
   ]
  },
  {
   "cell_type": "code",
   "execution_count": 87,
   "metadata": {},
   "outputs": [
    {
     "data": {
      "text/html": [
       "<div>\n",
       "<style scoped>\n",
       "    .dataframe tbody tr th:only-of-type {\n",
       "        vertical-align: middle;\n",
       "    }\n",
       "\n",
       "    .dataframe tbody tr th {\n",
       "        vertical-align: top;\n",
       "    }\n",
       "\n",
       "    .dataframe thead th {\n",
       "        text-align: right;\n",
       "    }\n",
       "</style>\n",
       "<table border=\"1\" class=\"dataframe\">\n",
       "  <thead>\n",
       "    <tr style=\"text-align: right;\">\n",
       "      <th></th>\n",
       "      <th>mailing_address</th>\n",
       "      <th>location_address</th>\n",
       "      <th>license_info</th>\n",
       "      <th>issued_by</th>\n",
       "      <th>licenses</th>\n",
       "      <th>total_amount_paid</th>\n",
       "      <th>name</th>\n",
       "      <th>url</th>\n",
       "    </tr>\n",
       "  </thead>\n",
       "  <tbody>\n",
       "    <tr>\n",
       "      <th>0</th>\n",
       "      <td>AMIN NARGIS\\n1104 PLANTERS PLACE\\nSALISBURY, MD 21804</td>\n",
       "      <td>VAPE IT STORE II\\n1015 S SALISBURY BLVD\\nSALISBURY, MD 21801</td>\n",
       "      <td>[License Status: Issued, License No.: 22375606, Control No.: 22884439, Date of Issue: 4/27/2018, Months Paid: 12, Exp. Date: 4/30/2019, Subdivision: 22 Salisbury]</td>\n",
       "      <td>WICOMICO COUNTY, CLERK OF CIRCUIT COURT\\nP.O. BOX 198\\nSALISBURY, MARYLAND 21803-0198</td>\n",
       "      <td>[OTHER TOBACCO PROD RETLR, CHAIN STORE, TRADER'S LICENSE]</td>\n",
       "      <td>$ 41.00</td>\n",
       "      <td>VAPE IT STORE II</td>\n",
       "      <td>https://jportal.mdcourts.gov/license/pbLicenseDetail.jsp?owi=pUdvbOe9%2BNY%3D</td>\n",
       "    </tr>\n",
       "    <tr>\n",
       "      <th>1</th>\n",
       "      <td>AMIN NARGIS\\n1104 PLANTERS PLACE\\nSALISBURY, MD 21804</td>\n",
       "      <td>VAPE IT STORE I\\n1724 N SALISBURY BLVD UNIT 2\\nSALISBURY, MD 21801</td>\n",
       "      <td>[License Status: Issued, License No.: 22375605, Control No.: 22591855, Date of Issue: 4/27/2018, Months Paid: 12, Exp. Date: 4/30/2019, Subdivision: 22 Salisbury]</td>\n",
       "      <td>WICOMICO COUNTY, CLERK OF CIRCUIT COURT\\nP.O. BOX 198\\nSALISBURY, MARYLAND 21803-0198</td>\n",
       "      <td>[TRADER'S LICENSE, CHAIN STORE]</td>\n",
       "      <td>$ 24.00</td>\n",
       "      <td>VAPE IT STORE I</td>\n",
       "      <td>https://jportal.mdcourts.gov/license/pbLicenseDetail.jsp?owi=j5g0Oi3UWXk%3D</td>\n",
       "    </tr>\n",
       "    <tr>\n",
       "      <th>2</th>\n",
       "      <td>ANJ DISTRIBUTIONS LLC\\n2504 ORCHARD KNOLL WAY\\nODENTON, MD 21113</td>\n",
       "      <td>VAPEPAD THE\\n2299 JOHNS HOPKINS ROAD\\nGAMBRILLS, MD 21054</td>\n",
       "      <td>[License Status: Issued, License No.: 02304705, Control No.: 02685930, Date of Issue: 4/05/2018, Months Paid: 12, Exp. Date: 4/30/2019, Subdivision: 02 Anne Arundel County]</td>\n",
       "      <td>ROBERT P. DUCKWORTH, CLERK OF CIRCUIT COURT\\n8 CHURCH CIRCLE, ROOM H-101\\nANNAPOLIS, MARYLAND 21401</td>\n",
       "      <td>[TRADER'S LICENSE]</td>\n",
       "      <td>$ 94.00</td>\n",
       "      <td>VAPEPAD THE</td>\n",
       "      <td>https://jportal.mdcourts.gov/license/pbLicenseDetail.jsp?owi=K81VUcRi3L0%3D</td>\n",
       "    </tr>\n",
       "  </tbody>\n",
       "</table>\n",
       "</div>"
      ],
      "text/plain": [
       "                                                    mailing_address  \\\n",
       "0  AMIN NARGIS\\n1104 PLANTERS PLACE\\nSALISBURY, MD 21804              \n",
       "1  AMIN NARGIS\\n1104 PLANTERS PLACE\\nSALISBURY, MD 21804              \n",
       "2  ANJ DISTRIBUTIONS LLC\\n2504 ORCHARD KNOLL WAY\\nODENTON, MD 21113   \n",
       "\n",
       "                                                     location_address  \\\n",
       "0  VAPE IT STORE II\\n1015 S SALISBURY BLVD\\nSALISBURY, MD 21801         \n",
       "1  VAPE IT STORE I\\n1724 N SALISBURY BLVD UNIT 2\\nSALISBURY, MD 21801   \n",
       "2  VAPEPAD THE\\n2299 JOHNS HOPKINS ROAD\\nGAMBRILLS, MD 21054            \n",
       "\n",
       "                                                                                                                                                                   license_info  \\\n",
       "0  [License Status: Issued, License No.: 22375606, Control No.: 22884439, Date of Issue: 4/27/2018, Months Paid: 12, Exp. Date: 4/30/2019, Subdivision: 22 Salisbury]             \n",
       "1  [License Status: Issued, License No.: 22375605, Control No.: 22591855, Date of Issue: 4/27/2018, Months Paid: 12, Exp. Date: 4/30/2019, Subdivision: 22 Salisbury]             \n",
       "2  [License Status: Issued, License No.: 02304705, Control No.: 02685930, Date of Issue: 4/05/2018, Months Paid: 12, Exp. Date: 4/30/2019, Subdivision: 02 Anne Arundel County]   \n",
       "\n",
       "                                                                                             issued_by  \\\n",
       "0  WICOMICO COUNTY, CLERK OF CIRCUIT COURT\\nP.O. BOX 198\\nSALISBURY, MARYLAND 21803-0198                 \n",
       "1  WICOMICO COUNTY, CLERK OF CIRCUIT COURT\\nP.O. BOX 198\\nSALISBURY, MARYLAND 21803-0198                 \n",
       "2  ROBERT P. DUCKWORTH, CLERK OF CIRCUIT COURT\\n8 CHURCH CIRCLE, ROOM H-101\\nANNAPOLIS, MARYLAND 21401   \n",
       "\n",
       "                                                    licenses  \\\n",
       "0  [OTHER TOBACCO PROD RETLR, CHAIN STORE, TRADER'S LICENSE]   \n",
       "1  [TRADER'S LICENSE, CHAIN STORE]                             \n",
       "2  [TRADER'S LICENSE]                                          \n",
       "\n",
       "  total_amount_paid              name  \\\n",
       "0  $ 41.00           VAPE IT STORE II   \n",
       "1  $ 24.00           VAPE IT STORE I    \n",
       "2  $ 94.00           VAPEPAD THE        \n",
       "\n",
       "                                                                             url  \n",
       "0  https://jportal.mdcourts.gov/license/pbLicenseDetail.jsp?owi=pUdvbOe9%2BNY%3D  \n",
       "1  https://jportal.mdcourts.gov/license/pbLicenseDetail.jsp?owi=j5g0Oi3UWXk%3D    \n",
       "2  https://jportal.mdcourts.gov/license/pbLicenseDetail.jsp?owi=K81VUcRi3L0%3D    "
      ]
     },
     "execution_count": 87,
     "metadata": {},
     "output_type": "execute_result"
    }
   ],
   "source": [
    "df_test"
   ]
  },
  {
   "cell_type": "code",
   "execution_count": 89,
   "metadata": {},
   "outputs": [],
   "source": [
    "#So while it seems to work, it won't capture any data on the pending applications. I'll leave it out for now.\n",
    "#If we did want to grab their addresses we'd have to loop through the search result pages as above.\n",
    "\n",
    "df_vape = df.apply(vape_scrape, axis=1).join(df)"
   ]
  },
  {
   "cell_type": "markdown",
   "metadata": {},
   "source": [
    "## Save as `vape-total.csv`\n",
    "\n",
    "Make sure you don't save the index! Open it up in a text editor or Excel to make sure it's correct."
   ]
  },
  {
   "cell_type": "code",
   "execution_count": 92,
   "metadata": {},
   "outputs": [],
   "source": [
    "df_vape.to_csv('vape-total.csv', index=False)"
   ]
  },
  {
   "cell_type": "code",
   "execution_count": null,
   "metadata": {},
   "outputs": [],
   "source": []
  }
 ],
 "metadata": {
  "kernelspec": {
   "display_name": "Python 3",
   "language": "python",
   "name": "python3"
  },
  "language_info": {
   "codemirror_mode": {
    "name": "ipython",
    "version": 3
   },
   "file_extension": ".py",
   "mimetype": "text/x-python",
   "name": "python",
   "nbconvert_exporter": "python",
   "pygments_lexer": "ipython3",
   "version": "3.6.4"
  }
 },
 "nbformat": 4,
 "nbformat_minor": 2
}
