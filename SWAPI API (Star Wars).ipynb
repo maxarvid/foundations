{
 "cells": [
  {
   "cell_type": "markdown",
   "metadata": {},
   "source": [
    "# SWAPI (Star Wars)\n",
    "\n",
    "Answer the following questions using the [Dark Sky API](https://swapi.co/). I've added three cells for each question but you're free to use more or less! Hold `Shift` and hit `Enter` to run a cell, and use the `+` on the top left to add a new cell to a notebook.\n",
    "\n",
    "If you spend some time reading the documentation your life will probably be a little bit easier!\n",
    "\n",
    "## 0) Import any libraries you might need\n",
    "\n",
    "- *Tip: We're going to be downloading things from the internet, so we probably need `requests`.*"
   ]
  },
  {
   "cell_type": "code",
   "execution_count": 1,
   "metadata": {},
   "outputs": [],
   "source": [
    "import requests"
   ]
  },
  {
   "cell_type": "code",
   "execution_count": null,
   "metadata": {},
   "outputs": [],
   "source": []
  },
  {
   "cell_type": "code",
   "execution_count": null,
   "metadata": {},
   "outputs": [],
   "source": []
  },
  {
   "cell_type": "markdown",
   "metadata": {},
   "source": [
    "## 1) Make a request to the Star Wars API\n",
    "\n",
    "I've heard there's a new Star Wars film called **Solo**, but it isn't in SWAPI!\n",
    "\n",
    "The most recent film it contains has an ID of 7. Make a request for that film and look at the data."
   ]
  },
  {
   "cell_type": "code",
   "execution_count": 2,
   "metadata": {},
   "outputs": [],
   "source": [
    "response = requests.get(\"https://swapi.co/api/films/7/\")"
   ]
  },
  {
   "cell_type": "code",
   "execution_count": 3,
   "metadata": {},
   "outputs": [],
   "source": [
    "data = response.json()"
   ]
  },
  {
   "cell_type": "code",
   "execution_count": 4,
   "metadata": {},
   "outputs": [
    {
     "data": {
      "text/plain": [
       "{'title': 'The Force Awakens',\n",
       " 'episode_id': 7,\n",
       " 'opening_crawl': \"Luke Skywalker has vanished.\\r\\nIn his absence, the sinister\\r\\nFIRST ORDER has risen from\\r\\nthe ashes of the Empire\\r\\nand will not rest until\\r\\nSkywalker, the last Jedi,\\r\\nhas been destroyed.\\r\\n \\r\\nWith the support of the\\r\\nREPUBLIC, General Leia Organa\\r\\nleads a brave RESISTANCE.\\r\\nShe is desperate to find her\\r\\nbrother Luke and gain his\\r\\nhelp in restoring peace and\\r\\njustice to the galaxy.\\r\\n \\r\\nLeia has sent her most daring\\r\\npilot on a secret mission\\r\\nto Jakku, where an old ally\\r\\nhas discovered a clue to\\r\\nLuke's whereabouts....\",\n",
       " 'director': 'J. J. Abrams',\n",
       " 'producer': 'Kathleen Kennedy, J. J. Abrams, Bryan Burk',\n",
       " 'release_date': '2015-12-11',\n",
       " 'characters': ['https://swapi.co/api/people/1/',\n",
       "  'https://swapi.co/api/people/3/',\n",
       "  'https://swapi.co/api/people/5/',\n",
       "  'https://swapi.co/api/people/13/',\n",
       "  'https://swapi.co/api/people/14/',\n",
       "  'https://swapi.co/api/people/27/',\n",
       "  'https://swapi.co/api/people/84/',\n",
       "  'https://swapi.co/api/people/85/',\n",
       "  'https://swapi.co/api/people/86/',\n",
       "  'https://swapi.co/api/people/87/',\n",
       "  'https://swapi.co/api/people/88/'],\n",
       " 'planets': ['https://swapi.co/api/planets/61/'],\n",
       " 'starships': ['https://swapi.co/api/starships/77/',\n",
       "  'https://swapi.co/api/starships/10/'],\n",
       " 'vehicles': [],\n",
       " 'species': ['https://swapi.co/api/species/3/',\n",
       "  'https://swapi.co/api/species/2/',\n",
       "  'https://swapi.co/api/species/1/'],\n",
       " 'created': '2015-04-17T06:51:30.504780Z',\n",
       " 'edited': '2015-12-17T14:31:47.617768Z',\n",
       " 'url': 'https://swapi.co/api/films/7/'}"
      ]
     },
     "execution_count": 4,
     "metadata": {},
     "output_type": "execute_result"
    }
   ],
   "source": [
    "data"
   ]
  },
  {
   "cell_type": "markdown",
   "metadata": {},
   "source": [
    "## 2) What is that film's name, and when was it released?\n",
    "\n",
    "Please print **only** the title and the release date. You can guess at the keys, but I recommend checking the documentation."
   ]
  },
  {
   "cell_type": "code",
   "execution_count": 5,
   "metadata": {},
   "outputs": [
    {
     "data": {
      "text/plain": [
       "'The Force Awakens'"
      ]
     },
     "execution_count": 5,
     "metadata": {},
     "output_type": "execute_result"
    }
   ],
   "source": [
    "data['title']"
   ]
  },
  {
   "cell_type": "code",
   "execution_count": 6,
   "metadata": {},
   "outputs": [
    {
     "data": {
      "text/plain": [
       "'2015-12-11'"
      ]
     },
     "execution_count": 6,
     "metadata": {},
     "output_type": "execute_result"
    }
   ],
   "source": [
    "data['release_date']"
   ]
  },
  {
   "cell_type": "code",
   "execution_count": null,
   "metadata": {},
   "outputs": [],
   "source": []
  },
  {
   "cell_type": "markdown",
   "metadata": {},
   "source": [
    "## 3) But I want Han Solo! Use the API to search for people named \"Solo\"."
   ]
  },
  {
   "cell_type": "code",
   "execution_count": 13,
   "metadata": {},
   "outputs": [],
   "source": [
    "response = requests.get('https://swapi.co/api/people/?search=solo')"
   ]
  },
  {
   "cell_type": "code",
   "execution_count": 14,
   "metadata": {},
   "outputs": [],
   "source": [
    "data = response.json()"
   ]
  },
  {
   "cell_type": "code",
   "execution_count": 16,
   "metadata": {},
   "outputs": [
    {
     "data": {
      "text/plain": [
       "{'count': 1,\n",
       " 'next': None,\n",
       " 'previous': None,\n",
       " 'results': [{'name': 'Han Solo',\n",
       "   'height': '180',\n",
       "   'mass': '80',\n",
       "   'hair_color': 'brown',\n",
       "   'skin_color': 'fair',\n",
       "   'eye_color': 'brown',\n",
       "   'birth_year': '29BBY',\n",
       "   'gender': 'male',\n",
       "   'homeworld': 'https://swapi.co/api/planets/22/',\n",
       "   'films': ['https://swapi.co/api/films/2/',\n",
       "    'https://swapi.co/api/films/3/',\n",
       "    'https://swapi.co/api/films/1/',\n",
       "    'https://swapi.co/api/films/7/'],\n",
       "   'species': ['https://swapi.co/api/species/1/'],\n",
       "   'vehicles': [],\n",
       "   'starships': ['https://swapi.co/api/starships/10/',\n",
       "    'https://swapi.co/api/starships/22/'],\n",
       "   'created': '2014-12-10T16:49:14.582000Z',\n",
       "   'edited': '2014-12-20T21:17:50.334000Z',\n",
       "   'url': 'https://swapi.co/api/people/14/'}]}"
      ]
     },
     "execution_count": 16,
     "metadata": {},
     "output_type": "execute_result"
    }
   ],
   "source": [
    "data"
   ]
  },
  {
   "cell_type": "code",
   "execution_count": null,
   "metadata": {},
   "outputs": [],
   "source": []
  },
  {
   "cell_type": "markdown",
   "metadata": {},
   "source": [
    "## 4) How many results did you get?\n",
    "\n",
    "Show **two different ways** of displaying this number.\n",
    "\n",
    "- *Tip: One uses the API, and one uses a Python function*"
   ]
  },
  {
   "cell_type": "code",
   "execution_count": 17,
   "metadata": {},
   "outputs": [
    {
     "data": {
      "text/plain": [
       "1"
      ]
     },
     "execution_count": 17,
     "metadata": {},
     "output_type": "execute_result"
    }
   ],
   "source": [
    "data['count'] #with a count of 1, no need to worry about pagonation!"
   ]
  },
  {
   "cell_type": "code",
   "execution_count": null,
   "metadata": {},
   "outputs": [],
   "source": []
  },
  {
   "cell_type": "code",
   "execution_count": 19,
   "metadata": {},
   "outputs": [
    {
     "data": {
      "text/plain": [
       "1"
      ]
     },
     "execution_count": 19,
     "metadata": {},
     "output_type": "execute_result"
    }
   ],
   "source": [
    "len(data['results'])"
   ]
  },
  {
   "cell_type": "markdown",
   "metadata": {},
   "source": [
    "## 5) Write me a sentence about Han Solo\n",
    "\n",
    "Your sentence should be say `\"____ has _____ hair, is _____cm tall and weighs ____kg.\"` - make sure you have **no spcaes** between the numbers and `cm`/`kg`."
   ]
  },
  {
   "cell_type": "code",
   "execution_count": 25,
   "metadata": {},
   "outputs": [],
   "source": [
    "#let's make life a bit easier:\n",
    "results_list = data['results']"
   ]
  },
  {
   "cell_type": "code",
   "execution_count": 35,
   "metadata": {},
   "outputs": [],
   "source": [
    "# let's make life even easier:\n",
    "results = results_list[0]"
   ]
  },
  {
   "cell_type": "code",
   "execution_count": 34,
   "metadata": {},
   "outputs": [
    {
     "name": "stdout",
     "output_type": "stream",
     "text": [
      "Han Solo has brown hair, is 180cm tall and weights 80kg.\n"
     ]
    }
   ],
   "source": [
    "print(\"{} has {} hair, is {}cm tall and weights {}kg.\"\n",
    "      .format(results['name'], results['hair_color'], results['height'], results['mass']))"
   ]
  },
  {
   "cell_type": "markdown",
   "metadata": {},
   "source": [
    "## 5) Search for C-3PO"
   ]
  },
  {
   "cell_type": "code",
   "execution_count": 36,
   "metadata": {},
   "outputs": [],
   "source": [
    "#Is this the droid we are looking for?\n",
    "response = requests.get('https://swapi.co/api/people/?search=C-3PO')\n",
    "data = response.json()"
   ]
  },
  {
   "cell_type": "code",
   "execution_count": 37,
   "metadata": {},
   "outputs": [
    {
     "data": {
      "text/plain": [
       "{'count': 1,\n",
       " 'next': None,\n",
       " 'previous': None,\n",
       " 'results': [{'name': 'C-3PO',\n",
       "   'height': '167',\n",
       "   'mass': '75',\n",
       "   'hair_color': 'n/a',\n",
       "   'skin_color': 'gold',\n",
       "   'eye_color': 'yellow',\n",
       "   'birth_year': '112BBY',\n",
       "   'gender': 'n/a',\n",
       "   'homeworld': 'https://swapi.co/api/planets/1/',\n",
       "   'films': ['https://swapi.co/api/films/2/',\n",
       "    'https://swapi.co/api/films/5/',\n",
       "    'https://swapi.co/api/films/4/',\n",
       "    'https://swapi.co/api/films/6/',\n",
       "    'https://swapi.co/api/films/3/',\n",
       "    'https://swapi.co/api/films/1/'],\n",
       "   'species': ['https://swapi.co/api/species/2/'],\n",
       "   'vehicles': [],\n",
       "   'starships': [],\n",
       "   'created': '2014-12-10T15:10:51.357000Z',\n",
       "   'edited': '2014-12-20T21:17:50.309000Z',\n",
       "   'url': 'https://swapi.co/api/people/2/'}]}"
      ]
     },
     "execution_count": 37,
     "metadata": {},
     "output_type": "execute_result"
    }
   ],
   "source": [
    "data"
   ]
  },
  {
   "cell_type": "code",
   "execution_count": null,
   "metadata": {},
   "outputs": [],
   "source": []
  },
  {
   "cell_type": "markdown",
   "metadata": {},
   "source": [
    "## 6) What URL can tell me more about his species? Make a request to the corrent endpoint.\n",
    "\n",
    "Spoiler: he's a **droid**. Are robots a species? I guess so, maybe."
   ]
  },
  {
   "cell_type": "code",
   "execution_count": 38,
   "metadata": {},
   "outputs": [],
   "source": [
    "species_url = data['results'][0]['species'][0]"
   ]
  },
  {
   "cell_type": "code",
   "execution_count": 39,
   "metadata": {},
   "outputs": [
    {
     "data": {
      "text/plain": [
       "'https://swapi.co/api/species/2/'"
      ]
     },
     "execution_count": 39,
     "metadata": {},
     "output_type": "execute_result"
    }
   ],
   "source": [
    "species_url"
   ]
  },
  {
   "cell_type": "code",
   "execution_count": 52,
   "metadata": {},
   "outputs": [],
   "source": [
    "#okay that's not what was asked, just wanted to make sure it worked. Here we go:\n",
    "response = requests.get(species_url)"
   ]
  },
  {
   "cell_type": "code",
   "execution_count": 53,
   "metadata": {},
   "outputs": [
    {
     "data": {
      "text/plain": [
       "{'name': 'Droid',\n",
       " 'classification': 'artificial',\n",
       " 'designation': 'sentient',\n",
       " 'average_height': 'n/a',\n",
       " 'skin_colors': 'n/a',\n",
       " 'hair_colors': 'n/a',\n",
       " 'eye_colors': 'n/a',\n",
       " 'average_lifespan': 'indefinite',\n",
       " 'homeworld': None,\n",
       " 'language': 'n/a',\n",
       " 'people': ['https://swapi.co/api/people/2/',\n",
       "  'https://swapi.co/api/people/3/',\n",
       "  'https://swapi.co/api/people/8/',\n",
       "  'https://swapi.co/api/people/23/',\n",
       "  'https://swapi.co/api/people/87/'],\n",
       " 'films': ['https://swapi.co/api/films/2/',\n",
       "  'https://swapi.co/api/films/7/',\n",
       "  'https://swapi.co/api/films/5/',\n",
       "  'https://swapi.co/api/films/4/',\n",
       "  'https://swapi.co/api/films/6/',\n",
       "  'https://swapi.co/api/films/3/',\n",
       "  'https://swapi.co/api/films/1/'],\n",
       " 'created': '2014-12-10T15:16:16.259000Z',\n",
       " 'edited': '2015-04-17T06:59:43.869528Z',\n",
       " 'url': 'https://swapi.co/api/species/2/'}"
      ]
     },
     "execution_count": 53,
     "metadata": {},
     "output_type": "execute_result"
    }
   ],
   "source": [
    "data = response.json()\n",
    "data"
   ]
  },
  {
   "cell_type": "markdown",
   "metadata": {},
   "source": [
    "## 7) Print out the URL of every droid\n",
    "\n",
    "* *Tip: life will be easier if you don't say `for droid in...` or `for person in` because you aren't looping through droids or people. What are you looping through?*"
   ]
  },
  {
   "cell_type": "code",
   "execution_count": 54,
   "metadata": {},
   "outputs": [
    {
     "name": "stdout",
     "output_type": "stream",
     "text": [
      "https://swapi.co/api/people/2/\n",
      "https://swapi.co/api/people/3/\n",
      "https://swapi.co/api/people/8/\n",
      "https://swapi.co/api/people/23/\n",
      "https://swapi.co/api/people/87/\n"
     ]
    }
   ],
   "source": [
    "#I'm looping through... URLs?\n",
    "for url in data['people']:\n",
    "    print(url)"
   ]
  },
  {
   "cell_type": "code",
   "execution_count": null,
   "metadata": {},
   "outputs": [],
   "source": []
  },
  {
   "cell_type": "code",
   "execution_count": null,
   "metadata": {},
   "outputs": [],
   "source": []
  },
  {
   "cell_type": "markdown",
   "metadata": {},
   "source": [
    "## 8) Print out the name of every droid\n",
    "\n",
    "* *Tip: You should start from the last answer, but add more stuff in!*\n",
    "* *Tip: You'll need to make a request every time you're in the loop*\n",
    "* *Tip: Be careful - f you re-use the variable name `data` you'll erase your old `data` variable*"
   ]
  },
  {
   "cell_type": "code",
   "execution_count": 56,
   "metadata": {},
   "outputs": [],
   "source": [
    "droid_url = []\n",
    "for url in data['people']:\n",
    "    droid_url.append(url)"
   ]
  },
  {
   "cell_type": "code",
   "execution_count": 57,
   "metadata": {},
   "outputs": [],
   "source": [
    "droid_names = []\n",
    "for url in droid_url:\n",
    "    response = requests.get(url)\n",
    "    droid_data = response.json()\n",
    "    droid_names.append(droid_data['name'])"
   ]
  },
  {
   "cell_type": "code",
   "execution_count": 58,
   "metadata": {},
   "outputs": [
    {
     "data": {
      "text/plain": [
       "['C-3PO', 'R2-D2', 'R5-D4', 'IG-88', 'BB8']"
      ]
     },
     "execution_count": 58,
     "metadata": {},
     "output_type": "execute_result"
    }
   ],
   "source": [
    "droid_names #Haha!"
   ]
  },
  {
   "cell_type": "markdown",
   "metadata": {},
   "source": [
    "## 9) Print out more about the droid\n",
    "\n",
    "Count the number of films for each droid, printing `\"___ was in ___ films\"` for each of them\n",
    "\n",
    "* *Tip: You might want to look at a single droid result, or print the data in the for loop, so you know how to get the films. Or read the documentation!*"
   ]
  },
  {
   "cell_type": "code",
   "execution_count": 72,
   "metadata": {},
   "outputs": [
    {
     "name": "stdout",
     "output_type": "stream",
     "text": [
      "C-3PO was in 6 films\n",
      "R2-D2 was in 7 films\n",
      "R5-D4 was in 1 films\n",
      "IG-88 was in 1 films\n",
      "BB8 was in 1 films\n"
     ]
    }
   ],
   "source": [
    "#Let's build on the for loop from question 8.\n",
    "for url in droid_url:\n",
    "    response = requests.get(url)\n",
    "    droid_data = response.json()\n",
    "    print(droid_data['name'],\"was in\", len(droid_data['films']),\"films\")"
   ]
  },
  {
   "cell_type": "code",
   "execution_count": null,
   "metadata": {},
   "outputs": [],
   "source": []
  },
  {
   "cell_type": "code",
   "execution_count": null,
   "metadata": {},
   "outputs": [],
   "source": []
  },
  {
   "cell_type": "markdown",
   "metadata": {},
   "source": [
    "## 10) Let's be smart and cache the results *[DIFFICULT, maybe!]*\n",
    "\n",
    "So far we've been using a for loop to go through each droid. Every droid, one more request. Every time we want more data, we run the loops again. I don't want that guy to get angry that we're asking for so much data!\n",
    "\n",
    "We want to our list of **droid urls** and turn it into a **list of dictionaries about those droids**. Save it as a variable called `droids`. If you get it correct, the following code should work if you cut and paste it.\n",
    "\n",
    "```python\n",
    "for droid in droids:\n",
    "    print(droid['name'])\n",
    "```\n",
    "\n",
    "* *Tip: Use a list comprehension*\n",
    "* *Tip: So far we've done `response = requests.get..` and `response.json()` on separate lines. You'll need to combine them!*"
   ]
  },
  {
   "cell_type": "code",
   "execution_count": 83,
   "metadata": {},
   "outputs": [],
   "source": [
    "droids = [requests.get(url).json() for url in droid_url] #so short, took me so long to figure out..."
   ]
  },
  {
   "cell_type": "code",
   "execution_count": 84,
   "metadata": {},
   "outputs": [
    {
     "name": "stdout",
     "output_type": "stream",
     "text": [
      "C-3PO\n",
      "R2-D2\n",
      "R5-D4\n",
      "IG-88\n",
      "BB8\n"
     ]
    }
   ],
   "source": [
    "#let's test it:\n",
    "for droid in droids:\n",
    "    print(droid['name'])"
   ]
  },
  {
   "cell_type": "code",
   "execution_count": null,
   "metadata": {},
   "outputs": [],
   "source": []
  },
  {
   "cell_type": "markdown",
   "metadata": {},
   "source": [
    "## 11) Get a list of every single planet in the Star Wars universe\n",
    "\n",
    "* *Tip: You'll want to use the API documentation for this, I think*"
   ]
  },
  {
   "cell_type": "code",
   "execution_count": 86,
   "metadata": {},
   "outputs": [],
   "source": [
    "# The API documentation tells me that calling https://swapi.co/api/planets/ will return all the planets resources.\n",
    "# So let's do that, with list comprehensions for practice.\n",
    "\n",
    "response = requests.get('https://swapi.co/api/planets/')\n",
    "planets = response.json()\n"
   ]
  },
  {
   "cell_type": "code",
   "execution_count": 89,
   "metadata": {},
   "outputs": [
    {
     "data": {
      "text/plain": [
       "['Alderaan',\n",
       " 'Yavin IV',\n",
       " 'Hoth',\n",
       " 'Dagobah',\n",
       " 'Bespin',\n",
       " 'Endor',\n",
       " 'Naboo',\n",
       " 'Coruscant',\n",
       " 'Kamino',\n",
       " 'Geonosis']"
      ]
     },
     "execution_count": 89,
     "metadata": {},
     "output_type": "execute_result"
    }
   ],
   "source": [
    "planets_list = [planet['name'] for planet in planets['results']]\n",
    "planets_list"
   ]
  },
  {
   "cell_type": "code",
   "execution_count": 90,
   "metadata": {},
   "outputs": [],
   "source": [
    "# Wait a minute!!! There are WAY more planets than that in the SW universe..."
   ]
  },
  {
   "cell_type": "markdown",
   "metadata": {},
   "source": [
    "## 12) How many plants are there? Show me two different ways of displaying the answer.\n",
    "\n",
    "* *Tip: They won't match*"
   ]
  },
  {
   "cell_type": "code",
   "execution_count": 92,
   "metadata": {},
   "outputs": [
    {
     "data": {
      "text/plain": [
       "61"
      ]
     },
     "execution_count": 92,
     "metadata": {},
     "output_type": "execute_result"
    }
   ],
   "source": [
    "planets['count']"
   ]
  },
  {
   "cell_type": "code",
   "execution_count": 93,
   "metadata": {},
   "outputs": [
    {
     "data": {
      "text/plain": [
       "10"
      ]
     },
     "execution_count": 93,
     "metadata": {},
     "output_type": "execute_result"
    }
   ],
   "source": [
    "len(planets['results'])"
   ]
  },
  {
   "cell_type": "code",
   "execution_count": 95,
   "metadata": {},
   "outputs": [
    {
     "name": "stdout",
     "output_type": "stream",
     "text": [
      "https://swapi.co/api/planets/?page=2\n"
     ]
    }
   ],
   "source": [
    "#What!?! We have encountered an API pagination problem. I'll try to solve the issue with Soma's notes\n",
    "#http://jonathansoma.com/lede/foundations-2018/classes/apis/multiple-pages-of-data-from-apis/\n",
    "\n",
    "print(planets['next'])\n"
   ]
  },
  {
   "cell_type": "code",
   "execution_count": 97,
   "metadata": {},
   "outputs": [
    {
     "name": "stdout",
     "output_type": "stream",
     "text": [
      "But wait! There's more https://swapi.co/api/planets/?page=2\n",
      "But wait! There's more https://swapi.co/api/planets/?page=3\n",
      "But wait! There's more https://swapi.co/api/planets/?page=4\n",
      "But wait! There's more https://swapi.co/api/planets/?page=5\n",
      "But wait! There's more https://swapi.co/api/planets/?page=6\n",
      "But wait! There's more https://swapi.co/api/planets/?page=7\n"
     ]
    }
   ],
   "source": [
    "total_planets = []\n",
    "\n",
    "total_planets += planets['results']\n",
    "\n",
    "while planets['next'] != None:\n",
    "    print(\"But wait! There's more\", planets['next'])\n",
    "    planets = requests.get(planets['next']).json()\n",
    "    total_planets += planets['results']\n",
    "    "
   ]
  },
  {
   "cell_type": "code",
   "execution_count": 99,
   "metadata": {},
   "outputs": [
    {
     "data": {
      "text/plain": [
       "61"
      ]
     },
     "execution_count": 99,
     "metadata": {},
     "output_type": "execute_result"
    }
   ],
   "source": [
    "len(total_planets)"
   ]
  },
  {
   "cell_type": "code",
   "execution_count": null,
   "metadata": {},
   "outputs": [],
   "source": [
    "# It's a match!"
   ]
  },
  {
   "cell_type": "markdown",
   "metadata": {},
   "source": [
    "# These questions are all list comprehension questions, if you'd like\n",
    "\n",
    "## 13) Get the population of each of the planets\n",
    "\n",
    "* *Tip: Only use the 10 results for now*\n",
    "* *Tip: Use a list comprehension*"
   ]
  },
  {
   "cell_type": "code",
   "execution_count": 106,
   "metadata": {},
   "outputs": [],
   "source": [
    "# Since we bothered to cash all the planets above, I'll devieate from the question a bit and ignore the 1st tip.\n",
    "#also, i'm relying on stackoverflow: https://stackoverflow.com/questions/1747817/create-a-dictionary-with-list-comprehension-in-python\n",
    "planets_pop = {planet['name']: planet['population'] for planet in total_planets}"
   ]
  },
  {
   "cell_type": "code",
   "execution_count": 108,
   "metadata": {},
   "outputs": [],
   "source": [
    "#Not too shabby! I used the dict comprehension syntax d = {key: value for (key, value) in iterable}, stolen from link above.\n",
    "#This way we have a dictionary and can easily access both planet name and population: WAY more useful than just a list."
   ]
  },
  {
   "cell_type": "code",
   "execution_count": 111,
   "metadata": {},
   "outputs": [],
   "source": [
    "#planets_pop"
   ]
  },
  {
   "cell_type": "markdown",
   "metadata": {},
   "source": [
    "## 14) Get the population of each of the planets, EXCEPT the ones that have a population of `'unknown'`\n",
    "\n",
    "* *Tip: Use a list comprehension with a filter (that's the `..if..` part at the end)*"
   ]
  },
  {
   "cell_type": "code",
   "execution_count": 115,
   "metadata": {},
   "outputs": [],
   "source": [
    "planets_pop_known = {planet['name']: planet['population'] for planet in total_planets if planet['population'] != 'unknown'}\n",
    "\n",
    "#That's one long dict comprehension!"
   ]
  },
  {
   "cell_type": "code",
   "execution_count": 122,
   "metadata": {},
   "outputs": [
    {
     "data": {
      "text/plain": [
       "{'Alderaan': '2000000000',\n",
       " 'Yavin IV': '1000',\n",
       " 'Bespin': '6000000',\n",
       " 'Endor': '30000000',\n",
       " 'Naboo': '4500000000',\n",
       " 'Coruscant': '1000000000000',\n",
       " 'Kamino': '1000000000',\n",
       " 'Geonosis': '100000000000',\n",
       " 'Utapau': '95000000',\n",
       " 'Mustafar': '20000',\n",
       " 'Kashyyyk': '45000000',\n",
       " 'Polis Massa': '1000000',\n",
       " 'Mygeeto': '19000000',\n",
       " 'Felucia': '8500000',\n",
       " 'Cato Neimoidia': '10000000',\n",
       " 'Saleucami': '1400000000',\n",
       " 'Eriadu': '22000000000',\n",
       " 'Corellia': '3000000000',\n",
       " 'Rodia': '1300000000',\n",
       " 'Nal Hutta': '7000000000',\n",
       " 'Dantooine': '1000',\n",
       " 'Bestine IV': '62000000',\n",
       " 'Ord Mantell': '4000000000',\n",
       " 'Trandosha': '42000000',\n",
       " 'Socorro': '300000000',\n",
       " 'Mon Cala': '27000000000',\n",
       " 'Chandrila': '1200000000',\n",
       " 'Sullust': '18500000000',\n",
       " 'Toydaria': '11000000',\n",
       " 'Malastare': '2000000000',\n",
       " 'Dathomir': '5200',\n",
       " 'Ryloth': '1500000000',\n",
       " 'Vulpter': '421000000',\n",
       " 'Tund': '0',\n",
       " 'Haruun Kal': '705300',\n",
       " 'Cerea': '450000000',\n",
       " 'Glee Anselm': '500000000',\n",
       " 'Champala': '3500000000',\n",
       " 'Ojom': '500000000',\n",
       " 'Skako': '500000000000',\n",
       " 'Muunilinst': '5000000000',\n",
       " 'Kalee': '4000000000',\n",
       " 'Tatooine': '200000'}"
      ]
     },
     "execution_count": 122,
     "metadata": {},
     "output_type": "execute_result"
    }
   ],
   "source": [
    "planets_pop_known"
   ]
  },
  {
   "cell_type": "code",
   "execution_count": null,
   "metadata": {},
   "outputs": [],
   "source": []
  },
  {
   "cell_type": "markdown",
   "metadata": {},
   "source": [
    "## 14) Add up the populations\n",
    "\n",
    "* *Tip: They're strings right now, so it isn't going to work unless you change something about them*"
   ]
  },
  {
   "cell_type": "code",
   "execution_count": 131,
   "metadata": {},
   "outputs": [],
   "source": [
    "total_population = 0"
   ]
  },
  {
   "cell_type": "code",
   "execution_count": 133,
   "metadata": {},
   "outputs": [],
   "source": [
    "for planet in planets_pop_known:\n",
    "    total_population += int(planets_pop_known[planet])\n",
    "    \n",
    "#Hmm, am I right in assuming that dict/list comprehensions are mainly used to create lists and dictionaries, and not\n",
    "#to sum up values they might contain?\n"
   ]
  },
  {
   "cell_type": "code",
   "execution_count": 134,
   "metadata": {},
   "outputs": [
    {
     "data": {
      "text/plain": [
       "1711401432500"
      ]
     },
     "execution_count": 134,
     "metadata": {},
     "output_type": "execute_result"
    }
   ],
   "source": [
    "total_population"
   ]
  },
  {
   "cell_type": "markdown",
   "metadata": {},
   "source": [
    "## 15) Print what percentage of the total population each planet has\n",
    "\n",
    "I would like the sentences to be `\"The planet ____ has a population of _____, which is ___% of the total population\"`. If we don't know the planet's population, say `\"We don't know the population of _____\"`.\n",
    "\n",
    "* *Tip: This finally uses a for loop, but also the result of the last question*"
   ]
  },
  {
   "cell_type": "code",
   "execution_count": 156,
   "metadata": {},
   "outputs": [
    {
     "name": "stdout",
     "output_type": "stream",
     "text": [
      "The planet Alderaan has a population of 2000000000, which is 0.12% of the total population\n",
      "The planet Yavin IV has a population of 1000, which is 0.0% of the total population\n",
      "We don't know the population of Hoth\n",
      "We don't know the population of Dagobah\n",
      "The planet Bespin has a population of 6000000, which is 0.0% of the total population\n",
      "The planet Endor has a population of 30000000, which is 0.0% of the total population\n",
      "The planet Naboo has a population of 4500000000, which is 0.26% of the total population\n",
      "The planet Coruscant has a population of 1000000000000, which is 58.43% of the total population\n",
      "The planet Kamino has a population of 1000000000, which is 0.06% of the total population\n",
      "The planet Geonosis has a population of 100000000000, which is 5.84% of the total population\n",
      "The planet Utapau has a population of 95000000, which is 0.01% of the total population\n",
      "The planet Mustafar has a population of 20000, which is 0.0% of the total population\n",
      "The planet Kashyyyk has a population of 45000000, which is 0.0% of the total population\n",
      "The planet Polis Massa has a population of 1000000, which is 0.0% of the total population\n",
      "The planet Mygeeto has a population of 19000000, which is 0.0% of the total population\n",
      "The planet Felucia has a population of 8500000, which is 0.0% of the total population\n",
      "The planet Cato Neimoidia has a population of 10000000, which is 0.0% of the total population\n",
      "The planet Saleucami has a population of 1400000000, which is 0.08% of the total population\n",
      "We don't know the population of Stewjon\n",
      "The planet Eriadu has a population of 22000000000, which is 1.29% of the total population\n",
      "The planet Corellia has a population of 3000000000, which is 0.18% of the total population\n",
      "The planet Rodia has a population of 1300000000, which is 0.08% of the total population\n",
      "The planet Nal Hutta has a population of 7000000000, which is 0.41% of the total population\n",
      "The planet Dantooine has a population of 1000, which is 0.0% of the total population\n",
      "The planet Bestine IV has a population of 62000000, which is 0.0% of the total population\n",
      "The planet Ord Mantell has a population of 4000000000, which is 0.23% of the total population\n",
      "We don't know the population of unknown\n",
      "The planet Trandosha has a population of 42000000, which is 0.0% of the total population\n",
      "The planet Socorro has a population of 300000000, which is 0.02% of the total population\n",
      "The planet Mon Cala has a population of 27000000000, which is 1.58% of the total population\n",
      "The planet Chandrila has a population of 1200000000, which is 0.07% of the total population\n",
      "The planet Sullust has a population of 18500000000, which is 1.08% of the total population\n",
      "The planet Toydaria has a population of 11000000, which is 0.0% of the total population\n",
      "The planet Malastare has a population of 2000000000, which is 0.12% of the total population\n",
      "The planet Dathomir has a population of 5200, which is 0.0% of the total population\n",
      "The planet Ryloth has a population of 1500000000, which is 0.09% of the total population\n",
      "We don't know the population of Aleen Minor\n",
      "The planet Vulpter has a population of 421000000, which is 0.02% of the total population\n",
      "We don't know the population of Troiken\n",
      "The planet Tund has a population of 0, which is 0.0% of the total population\n",
      "The planet Haruun Kal has a population of 705300, which is 0.0% of the total population\n",
      "The planet Cerea has a population of 450000000, which is 0.03% of the total population\n",
      "The planet Glee Anselm has a population of 500000000, which is 0.03% of the total population\n",
      "We don't know the population of Iridonia\n",
      "We don't know the population of Tholoth\n",
      "We don't know the population of Iktotch\n",
      "We don't know the population of Quermia\n",
      "We don't know the population of Dorin\n",
      "The planet Champala has a population of 3500000000, which is 0.2% of the total population\n",
      "We don't know the population of Mirial\n",
      "We don't know the population of Serenno\n",
      "We don't know the population of Concord Dawn\n",
      "We don't know the population of Zolan\n",
      "The planet Ojom has a population of 500000000, which is 0.03% of the total population\n",
      "The planet Skako has a population of 500000000000, which is 29.22% of the total population\n",
      "The planet Muunilinst has a population of 5000000000, which is 0.29% of the total population\n",
      "We don't know the population of Shili\n",
      "The planet Kalee has a population of 4000000000, which is 0.23% of the total population\n",
      "We don't know the population of Umbara\n",
      "The planet Tatooine has a population of 200000, which is 0.0% of the total population\n",
      "We don't know the population of Jakku\n"
     ]
    }
   ],
   "source": [
    "for planet in total_planets:\n",
    "    if planet['population'] != 'unknown':\n",
    "        print(\"The planet {} has a population of {}, which is {}% of the total population\".format(planet['name'], planet['population'], round(100*int(planet['population'])/total_population, 2)))\n",
    "    else:\n",
    "        print(\"We don't know the population of {}\".format(planet['name']))"
   ]
  },
  {
   "cell_type": "code",
   "execution_count": null,
   "metadata": {},
   "outputs": [],
   "source": [
    "#Rounded to 2 decimal points to make the less populated planets not look uninhabited."
   ]
  },
  {
   "cell_type": "code",
   "execution_count": null,
   "metadata": {},
   "outputs": [],
   "source": []
  }
 ],
 "metadata": {
  "kernelspec": {
   "display_name": "Python 3",
   "language": "python",
   "name": "python3"
  },
  "language_info": {
   "codemirror_mode": {
    "name": "ipython",
    "version": 3
   },
   "file_extension": ".py",
   "mimetype": "text/x-python",
   "name": "python",
   "nbconvert_exporter": "python",
   "pygments_lexer": "ipython3",
   "version": "3.6.4"
  }
 },
 "nbformat": 4,
 "nbformat_minor": 2
}
