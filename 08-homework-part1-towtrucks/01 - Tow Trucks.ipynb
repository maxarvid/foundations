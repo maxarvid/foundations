{
 "cells": [
  {
   "cell_type": "markdown",
   "metadata": {},
   "source": [
    "# Texas Tow Trucks\n",
    "\n",
    "We're going to scrape some [tow trucks in Texas](https://www.tdlr.texas.gov/tools_search/)."
   ]
  },
  {
   "cell_type": "markdown",
   "metadata": {},
   "source": [
    "## Import your imports"
   ]
  },
  {
   "cell_type": "code",
   "execution_count": 1,
   "metadata": {},
   "outputs": [],
   "source": [
    "from selenium import webdriver\n",
    "from selenium.webdriver.common.keys import Keys\n",
    "from selenium.webdriver.support.ui import Select\n",
    "from selenium.webdriver.support.ui import WebDriverWait\n",
    "\n",
    "import time\n",
    "import pandas as pd\n",
    "import requests"
   ]
  },
  {
   "cell_type": "markdown",
   "metadata": {},
   "source": [
    "## Search for the TLDR Number `006179570C`, and scrape the information on that company\n",
    "\n",
    "Using [license information system](https://www.tdlr.texas.gov/tools_search/), find information about the tow truck number above, displaying the\n",
    "\n",
    "- The business name\n",
    "- Owner/operator\n",
    "- Phone number\n",
    "- License status (Active, Expired, Etc)\n",
    "- Physical address\n",
    "\n",
    "If you can't figure a 'nice' way to locate something, your two last options might be:\n",
    "\n",
    "- **Find a \"parent\" element, then dig inside**\n",
    "- **Find all of a type of element** (like we did with `td` before) and get the `[0]`, `[1]`, `[2]`, etc\n",
    "- **XPath** (inspect an element, Copy > Copy XPath)\n",
    "\n",
    "These kinds of techniques tend to break when you're on other result pages, but... maybe not! You won't know until you try.\n",
    "\n",
    "> - *TIP: When you use xpath, you CANNOT use double quotes or Python will get confused. Use single quotes.*\n",
    "> - *TIP: You can clean your data up if you want to, or leave it dirty to clean later*\n",
    "> - *TIP: The address part can be tough, but you have a few options. You can use a combination of `.split` and list slicing to clean it now, or clean it later in the dataframe with regular expressions. Or other options, too, probably*"
   ]
  },
  {
   "cell_type": "code",
   "execution_count": 2,
   "metadata": {},
   "outputs": [],
   "source": [
    "driver = webdriver.Chrome()\n",
    "driver.get('https://www.tdlr.texas.gov/tools_search/')"
   ]
  },
  {
   "cell_type": "code",
   "execution_count": 3,
   "metadata": {},
   "outputs": [],
   "source": [
    "tdlr_search = driver.find_element_by_id('mcrdata')\n",
    "tdlr_search.send_keys('006179570C')"
   ]
  },
  {
   "cell_type": "code",
   "execution_count": 4,
   "metadata": {},
   "outputs": [],
   "source": [
    "search_button = driver.find_element_by_id('submit3')\n",
    "search_button.click()"
   ]
  },
  {
   "cell_type": "code",
   "execution_count": 30,
   "metadata": {},
   "outputs": [
    {
     "data": {
      "text/plain": [
       "'BARRY MICHAEL SMITH'"
      ]
     },
     "execution_count": 30,
     "metadata": {},
     "output_type": "execute_result"
    }
   ],
   "source": [
    "driver.find_elements_by_tag_name('td')[5].text.replace('Name:   ','')"
   ]
  },
  {
   "cell_type": "code",
   "execution_count": 44,
   "metadata": {},
   "outputs": [
    {
     "data": {
      "text/plain": [
       "'Name:   BARRY MICHAEL SMITH DBA:   BUFFALO TOWING'"
      ]
     },
     "execution_count": 44,
     "metadata": {},
     "output_type": "execute_result"
    }
   ],
   "source": [
    "driver.find_elements_by_tag_name('tr')[4].text"
   ]
  },
  {
   "cell_type": "code",
   "execution_count": 45,
   "metadata": {},
   "outputs": [
    {
     "data": {
      "text/plain": [
       "'BARRY MICHAEL SMITH / OWNER'"
      ]
     },
     "execution_count": 45,
     "metadata": {},
     "output_type": "execute_result"
    }
   ],
   "source": [
    "driver.find_elements_by_tag_name('td')[7].text.replace('Owner/Officer:   ','')"
   ]
  },
  {
   "cell_type": "code",
   "execution_count": 46,
   "metadata": {},
   "outputs": [],
   "source": [
    "company_dict = {}\n",
    "company_dict['business_name'] = driver.find_elements_by_tag_name('tr')[4].text #ugly, but necessary for below.\n",
    "company_dict['owner'] = driver.find_elements_by_tag_name('td')[7].text.replace('Owner/Officer:   ','')\n",
    "company_dict['phone'] = driver.find_elements_by_tag_name('td')[9].text.replace('Phone:   ','')\n",
    "company_dict['status'] = driver.find_elements_by_tag_name('td')[12].text.replace('Status:  ','')\n",
    "company_dict['address'] = driver.find_elements_by_tag_name('td')[14].text.split('\\n')[-2:] #Cleaning this later"
   ]
  },
  {
   "cell_type": "code",
   "execution_count": 47,
   "metadata": {},
   "outputs": [
    {
     "data": {
      "text/plain": [
       "{'business_name': 'Name:   BARRY MICHAEL SMITH DBA:   BUFFALO TOWING',\n",
       " 'owner': 'BARRY MICHAEL SMITH / OWNER',\n",
       " 'phone': '8066544404',\n",
       " 'status': 'Active',\n",
       " 'address': ['4501 W CEMETERY RD', 'CANYON, TX. 79015']}"
      ]
     },
     "execution_count": 47,
     "metadata": {},
     "output_type": "execute_result"
    }
   ],
   "source": [
    "company_dict"
   ]
  },
  {
   "cell_type": "markdown",
   "metadata": {},
   "source": [
    "# Adapt this to work inside of a single cell\n",
    "\n",
    "Double-check that it works. You want it to print out all of the details."
   ]
  },
  {
   "cell_type": "code",
   "execution_count": 48,
   "metadata": {},
   "outputs": [
    {
     "name": "stdout",
     "output_type": "stream",
     "text": [
      "{'business_name': 'Name:   B.D. SMITH TOWING DBA:   NO DATA', 'owner': 'BRANDT SMITH / OWNER', 'phone': '8173330706', 'status': 'Expired', 'address': ['13619 BRETT JACKSON RD.', 'FORT WORTH, TX. 76179']}\n"
     ]
    }
   ],
   "source": [
    "#Launching a driver:\n",
    "driver = webdriver.Chrome()\n",
    "driver.get('https://www.tdlr.texas.gov/tools_search/')\n",
    "#Filling it out and clicking search:\n",
    "tdlr_search = driver.find_element_by_id('mcrdata')\n",
    "tdlr_search.send_keys('006179570C')\n",
    "search_button = driver.find_element_by_id('submit3')\n",
    "search_button.click()\n",
    "\n",
    "company_dict = {}\n",
    "company_dict['business_name'] = driver.find_elements_by_tag_name('tr')[4].text\n",
    "company_dict['owner'] = driver.find_elements_by_tag_name('td')[7].text.replace('Owner/Officer:   ','')\n",
    "company_dict['phone'] = driver.find_elements_by_tag_name('td')[9].text.replace('Phone:   ','')\n",
    "company_dict['status'] = driver.find_elements_by_tag_name('td')[12].text.replace('Status:  ','')\n",
    "company_dict['address'] = driver.find_elements_by_tag_name('td')[14].text.split('\\n')[-2:] #Cleaning this later\n",
    "\n",
    "print(company_dict)"
   ]
  },
  {
   "cell_type": "markdown",
   "metadata": {},
   "source": [
    "# Using .apply to find data about SEVERAL tow truck companies\n",
    "\n",
    "The file `trucks-subset.csv` has information about the trucks, we'll use it to find the pages to scrape.\n",
    "\n",
    "### Open up `trucks-subset.csv` and save it into a dataframe"
   ]
  },
  {
   "cell_type": "code",
   "execution_count": 49,
   "metadata": {},
   "outputs": [
    {
     "data": {
      "text/html": [
       "<div>\n",
       "<style scoped>\n",
       "    .dataframe tbody tr th:only-of-type {\n",
       "        vertical-align: middle;\n",
       "    }\n",
       "\n",
       "    .dataframe tbody tr th {\n",
       "        vertical-align: top;\n",
       "    }\n",
       "\n",
       "    .dataframe thead th {\n",
       "        text-align: right;\n",
       "    }\n",
       "</style>\n",
       "<table border=\"1\" class=\"dataframe\">\n",
       "  <thead>\n",
       "    <tr style=\"text-align: right;\">\n",
       "      <th></th>\n",
       "      <th>TDLR Number</th>\n",
       "    </tr>\n",
       "  </thead>\n",
       "  <tbody>\n",
       "    <tr>\n",
       "      <th>0</th>\n",
       "      <td>006507931C</td>\n",
       "    </tr>\n",
       "    <tr>\n",
       "      <th>1</th>\n",
       "      <td>006179570C</td>\n",
       "    </tr>\n",
       "    <tr>\n",
       "      <th>2</th>\n",
       "      <td>006502097C</td>\n",
       "    </tr>\n",
       "  </tbody>\n",
       "</table>\n",
       "</div>"
      ],
      "text/plain": [
       "  TDLR Number\n",
       "0  006507931C\n",
       "1  006179570C\n",
       "2  006502097C"
      ]
     },
     "execution_count": 49,
     "metadata": {},
     "output_type": "execute_result"
    }
   ],
   "source": [
    "df = pd.read_csv('trucks-subset.csv')\n",
    "df.head()"
   ]
  },
  {
   "cell_type": "code",
   "execution_count": null,
   "metadata": {},
   "outputs": [],
   "source": []
  },
  {
   "cell_type": "code",
   "execution_count": null,
   "metadata": {},
   "outputs": [],
   "source": []
  },
  {
   "cell_type": "markdown",
   "metadata": {},
   "source": [
    "## Go through each row of the dataset, displaying the URL you will need to scrape for the information on that row\n",
    "\n",
    "You don't have to actually use the search form for each of these - look at the URL you're on, it has the number in it!\n",
    "\n",
    "For example, one URL might look like `https://www.tdlr.texas.gov/tools_search/mccs_display.asp?mcrnumber=006495492C`.\n",
    "\n",
    "- *TIP: Use .apply and a function*\n",
    "- *TIP: Unlike the Yelp example, you'll need to build this URL from pieces*\n",
    "- *TIP: You probably don't want to `print` unless you're going to fix it for the next question \n",
    "- *TIP: pandas won't showing you the entire url! Run `pd.set_option('display.max_colwidth', -1)` to display aaaalll of the text in a cell*"
   ]
  },
  {
   "cell_type": "code",
   "execution_count": 50,
   "metadata": {},
   "outputs": [],
   "source": [
    "# https://www.tdlr.texas.gov/tools_search/mccs_display.asp?mcrnumber=006179570C\n",
    "def get_url(tldr_number):\n",
    "    return 'https://www.tdlr.texas.gov/tools_search/mccs_display.asp?mcrnumber='+tldr_number"
   ]
  },
  {
   "cell_type": "code",
   "execution_count": 51,
   "metadata": {},
   "outputs": [
    {
     "data": {
      "text/plain": [
       "0    https://www.tdlr.texas.gov/tools_search/mccs_display.asp?mcrnumber=006507931C\n",
       "1    https://www.tdlr.texas.gov/tools_search/mccs_display.asp?mcrnumber=006179570C\n",
       "2    https://www.tdlr.texas.gov/tools_search/mccs_display.asp?mcrnumber=006502097C\n",
       "Name: TDLR Number, dtype: object"
      ]
     },
     "execution_count": 51,
     "metadata": {},
     "output_type": "execute_result"
    }
   ],
   "source": [
    "pd.set_option('display.max_colwidth', -1)\n",
    "\n",
    "df['TDLR Number'].apply(get_url)"
   ]
  },
  {
   "cell_type": "markdown",
   "metadata": {},
   "source": [
    "### Save this URL into a new column of your dataframe, called `url`\n",
    "\n",
    "- *TIP: Use a function and `.apply`*\n",
    "- *TIP: Be sure to use `return`*"
   ]
  },
  {
   "cell_type": "code",
   "execution_count": 52,
   "metadata": {},
   "outputs": [],
   "source": [
    "df['url'] = df['TDLR Number'].apply(get_url)"
   ]
  },
  {
   "cell_type": "code",
   "execution_count": 53,
   "metadata": {},
   "outputs": [
    {
     "data": {
      "text/html": [
       "<div>\n",
       "<style scoped>\n",
       "    .dataframe tbody tr th:only-of-type {\n",
       "        vertical-align: middle;\n",
       "    }\n",
       "\n",
       "    .dataframe tbody tr th {\n",
       "        vertical-align: top;\n",
       "    }\n",
       "\n",
       "    .dataframe thead th {\n",
       "        text-align: right;\n",
       "    }\n",
       "</style>\n",
       "<table border=\"1\" class=\"dataframe\">\n",
       "  <thead>\n",
       "    <tr style=\"text-align: right;\">\n",
       "      <th></th>\n",
       "      <th>TDLR Number</th>\n",
       "      <th>url</th>\n",
       "    </tr>\n",
       "  </thead>\n",
       "  <tbody>\n",
       "    <tr>\n",
       "      <th>0</th>\n",
       "      <td>006507931C</td>\n",
       "      <td>https://www.tdlr.texas.gov/tools_search/mccs_display.asp?mcrnumber=006507931C</td>\n",
       "    </tr>\n",
       "    <tr>\n",
       "      <th>1</th>\n",
       "      <td>006179570C</td>\n",
       "      <td>https://www.tdlr.texas.gov/tools_search/mccs_display.asp?mcrnumber=006179570C</td>\n",
       "    </tr>\n",
       "    <tr>\n",
       "      <th>2</th>\n",
       "      <td>006502097C</td>\n",
       "      <td>https://www.tdlr.texas.gov/tools_search/mccs_display.asp?mcrnumber=006502097C</td>\n",
       "    </tr>\n",
       "  </tbody>\n",
       "</table>\n",
       "</div>"
      ],
      "text/plain": [
       "  TDLR Number  \\\n",
       "0  006507931C   \n",
       "1  006179570C   \n",
       "2  006502097C   \n",
       "\n",
       "                                                                             url  \n",
       "0  https://www.tdlr.texas.gov/tools_search/mccs_display.asp?mcrnumber=006507931C  \n",
       "1  https://www.tdlr.texas.gov/tools_search/mccs_display.asp?mcrnumber=006179570C  \n",
       "2  https://www.tdlr.texas.gov/tools_search/mccs_display.asp?mcrnumber=006502097C  "
      ]
     },
     "execution_count": 53,
     "metadata": {},
     "output_type": "execute_result"
    }
   ],
   "source": [
    "df"
   ]
  },
  {
   "cell_type": "code",
   "execution_count": null,
   "metadata": {},
   "outputs": [],
   "source": []
  },
  {
   "cell_type": "code",
   "execution_count": null,
   "metadata": {},
   "outputs": [],
   "source": []
  },
  {
   "cell_type": "markdown",
   "metadata": {},
   "source": [
    "## Go through each row of the dataset, printing out information about each tow truck company.\n",
    "\n",
    "Now will be **scraping** inside of your function.\n",
    "\n",
    "- The business name\n",
    "- Owner/operator\n",
    "- Phone number\n",
    "- License status (Active, Expired, Etc)\n",
    "- Physical address\n",
    "\n",
    "Just print it out for now.\n",
    "\n",
    "- *TIP: use .apply*\n",
    "- *TIP: You'll be using the code you wrote before, but converted into a function*\n",
    "- *TIP: Remember how the TDLR Number is in the URL? You don't need to do the form submission if you don't want!*\n",
    "- *TIP: Make sure you adjust any variables so you don't scrape the same page again and again*"
   ]
  },
  {
   "cell_type": "code",
   "execution_count": 54,
   "metadata": {},
   "outputs": [],
   "source": [
    "#Launching a driver: driver = webdriver.Chrome()\n",
    "def truck_scrape(url):\n",
    "    driver.get(url)\n",
    "    time.sleep(1)\n",
    "    company_dict = {}\n",
    "    company_dict['business_name'] = driver.find_elements_by_tag_name('tr')[4].text\n",
    "    company_dict['owner'] = driver.find_elements_by_tag_name('td')[7].text.replace('Owner/Officer:   ','')\n",
    "    company_dict['phone'] = driver.find_elements_by_tag_name('td')[9].text.replace('Phone:   ','')\n",
    "    company_dict['status'] = driver.find_elements_by_tag_name('td')[12].text.replace('Status:  ','')\n",
    "    company_dict['address'] = driver.find_elements_by_tag_name('td')[14].text.split('\\n')[-2:]\n",
    "\n",
    "    return company_dict"
   ]
  },
  {
   "cell_type": "code",
   "execution_count": 55,
   "metadata": {},
   "outputs": [
    {
     "data": {
      "text/plain": [
       "0    {'business_name': 'Name:   AUGUSTUS E SMITH DBA:   A-1 AUTO RECOVERY', 'owner': 'AUGUSTUS EUGENE SMITH / OWNER', 'phone': '9032276464', 'status': 'Active', 'address': ['103 N MAIN ST', 'BONHAM, TX. 75418']}   \n",
       "1    {'business_name': 'Name:   B.D. SMITH TOWING DBA:   NO DATA', 'owner': 'BRANDT SMITH / OWNER', 'phone': '8173330706', 'status': 'Expired', 'address': ['13619 BRETT JACKSON RD.', 'FORT WORTH, TX. 76179']}      \n",
       "2    {'business_name': 'Name:   BARRY MICHAEL SMITH DBA:   BUFFALO TOWING', 'owner': 'BARRY MICHAEL SMITH / OWNER', 'phone': '8066544404', 'status': 'Active', 'address': ['4501 W CEMETERY RD', 'CANYON, TX. 79015']}\n",
       "Name: url, dtype: object"
      ]
     },
     "execution_count": 55,
     "metadata": {},
     "output_type": "execute_result"
    }
   ],
   "source": [
    "df.url.apply(truck_scrape)"
   ]
  },
  {
   "cell_type": "code",
   "execution_count": null,
   "metadata": {},
   "outputs": [],
   "source": []
  },
  {
   "cell_type": "code",
   "execution_count": null,
   "metadata": {},
   "outputs": [],
   "source": []
  },
  {
   "cell_type": "markdown",
   "metadata": {},
   "source": [
    "## Scrape the following information for each row of the dataset, and save it into new columns in your dataframe.\n",
    "\n",
    "- The business name\n",
    "- Owner/operator\n",
    "- Phone number\n",
    "- License status (Active, Expired, Etc)\n",
    "- Physical address\n",
    "\n",
    "It's basically what we did before, but using the function a little differently.\n",
    "\n",
    "- *TIP: Same as above, but you'll be returning a `pd.Series` and the `.apply` line is going to be a lot longer*\n",
    "- *TIP: Save it to a new dataframe!*\n",
    "- *TIP: Make sure you change your `df` variable names correctly if you're cutting and pasting - there are a few so it can get tricky*"
   ]
  },
  {
   "cell_type": "code",
   "execution_count": 58,
   "metadata": {},
   "outputs": [],
   "source": [
    "def truck_scrape(url):\n",
    "    driver.get(url)\n",
    "    time.sleep(1)\n",
    "    return pd.Series({\n",
    "        'business_name' : driver.find_elements_by_tag_name('tr')[4].text[5:],\n",
    "        'owner' : driver.find_elements_by_tag_name('td')[7].text.replace('Owner/Officer:   ',''),\n",
    "        'phone' : driver.find_elements_by_tag_name('td')[9].text.replace('Phone:   ',''),\n",
    "        'status': driver.find_elements_by_tag_name('td')[12].text.replace('Status:  ',''),\n",
    "        'address': driver.find_elements_by_tag_name('td')[14].text.split('\\n')[-2:],\n",
    "    })"
   ]
  },
  {
   "cell_type": "code",
   "execution_count": 61,
   "metadata": {},
   "outputs": [
    {
     "data": {
      "text/html": [
       "<div>\n",
       "<style scoped>\n",
       "    .dataframe tbody tr th:only-of-type {\n",
       "        vertical-align: middle;\n",
       "    }\n",
       "\n",
       "    .dataframe tbody tr th {\n",
       "        vertical-align: top;\n",
       "    }\n",
       "\n",
       "    .dataframe thead th {\n",
       "        text-align: right;\n",
       "    }\n",
       "</style>\n",
       "<table border=\"1\" class=\"dataframe\">\n",
       "  <thead>\n",
       "    <tr style=\"text-align: right;\">\n",
       "      <th></th>\n",
       "      <th>business_name</th>\n",
       "      <th>owner</th>\n",
       "      <th>phone</th>\n",
       "      <th>status</th>\n",
       "      <th>address</th>\n",
       "    </tr>\n",
       "  </thead>\n",
       "  <tbody>\n",
       "    <tr>\n",
       "      <th>0</th>\n",
       "      <td>AUGUSTUS E SMITH DBA:   A-1 AUTO RECOVERY</td>\n",
       "      <td>AUGUSTUS EUGENE SMITH / OWNER</td>\n",
       "      <td>9032276464</td>\n",
       "      <td>Active</td>\n",
       "      <td>[103 N MAIN ST, BONHAM, TX. 75418]</td>\n",
       "    </tr>\n",
       "    <tr>\n",
       "      <th>1</th>\n",
       "      <td>B.D. SMITH TOWING DBA:   NO DATA</td>\n",
       "      <td>BRANDT SMITH / OWNER</td>\n",
       "      <td>8173330706</td>\n",
       "      <td>Expired</td>\n",
       "      <td>[13619 BRETT JACKSON RD., FORT WORTH, TX. 76179]</td>\n",
       "    </tr>\n",
       "    <tr>\n",
       "      <th>2</th>\n",
       "      <td>BARRY MICHAEL SMITH DBA:   BUFFALO TOWING</td>\n",
       "      <td>BARRY MICHAEL SMITH / OWNER</td>\n",
       "      <td>8066544404</td>\n",
       "      <td>Active</td>\n",
       "      <td>[4501 W CEMETERY RD, CANYON, TX. 79015]</td>\n",
       "    </tr>\n",
       "  </tbody>\n",
       "</table>\n",
       "</div>"
      ],
      "text/plain": [
       "                                  business_name  \\\n",
       "0     AUGUSTUS E SMITH DBA:   A-1 AUTO RECOVERY   \n",
       "1     B.D. SMITH TOWING DBA:   NO DATA            \n",
       "2     BARRY MICHAEL SMITH DBA:   BUFFALO TOWING   \n",
       "\n",
       "                           owner       phone   status  \\\n",
       "0  AUGUSTUS EUGENE SMITH / OWNER  9032276464  Active    \n",
       "1  BRANDT SMITH / OWNER           8173330706  Expired   \n",
       "2  BARRY MICHAEL SMITH / OWNER    8066544404  Active    \n",
       "\n",
       "                                            address  \n",
       "0  [103 N MAIN ST, BONHAM, TX. 75418]                \n",
       "1  [13619 BRETT JACKSON RD., FORT WORTH, TX. 76179]  \n",
       "2  [4501 W CEMETERY RD, CANYON, TX. 79015]           "
      ]
     },
     "execution_count": 61,
     "metadata": {},
     "output_type": "execute_result"
    }
   ],
   "source": [
    "df.url.apply(truck_scrape)"
   ]
  },
  {
   "cell_type": "code",
   "execution_count": 62,
   "metadata": {},
   "outputs": [],
   "source": [
    "trucks_df = df.url.apply(truck_scrape).join(df)\n"
   ]
  },
  {
   "cell_type": "code",
   "execution_count": 64,
   "metadata": {},
   "outputs": [
    {
     "data": {
      "text/html": [
       "<div>\n",
       "<style scoped>\n",
       "    .dataframe tbody tr th:only-of-type {\n",
       "        vertical-align: middle;\n",
       "    }\n",
       "\n",
       "    .dataframe tbody tr th {\n",
       "        vertical-align: top;\n",
       "    }\n",
       "\n",
       "    .dataframe thead th {\n",
       "        text-align: right;\n",
       "    }\n",
       "</style>\n",
       "<table border=\"1\" class=\"dataframe\">\n",
       "  <thead>\n",
       "    <tr style=\"text-align: right;\">\n",
       "      <th></th>\n",
       "      <th>business_name</th>\n",
       "      <th>owner</th>\n",
       "      <th>phone</th>\n",
       "      <th>status</th>\n",
       "      <th>address</th>\n",
       "      <th>TDLR Number</th>\n",
       "      <th>url</th>\n",
       "    </tr>\n",
       "  </thead>\n",
       "  <tbody>\n",
       "    <tr>\n",
       "      <th>0</th>\n",
       "      <td>AUGUSTUS E SMITH DBA:   A-1 AUTO RECOVERY</td>\n",
       "      <td>AUGUSTUS EUGENE SMITH / OWNER</td>\n",
       "      <td>9032276464</td>\n",
       "      <td>Active</td>\n",
       "      <td>[103 N MAIN ST, BONHAM, TX. 75418]</td>\n",
       "      <td>006507931C</td>\n",
       "      <td>https://www.tdlr.texas.gov/tools_search/mccs_display.asp?mcrnumber=006507931C</td>\n",
       "    </tr>\n",
       "    <tr>\n",
       "      <th>1</th>\n",
       "      <td>B.D. SMITH TOWING DBA:   NO DATA</td>\n",
       "      <td>BRANDT SMITH / OWNER</td>\n",
       "      <td>8173330706</td>\n",
       "      <td>Expired</td>\n",
       "      <td>[13619 BRETT JACKSON RD., FORT WORTH, TX. 76179]</td>\n",
       "      <td>006179570C</td>\n",
       "      <td>https://www.tdlr.texas.gov/tools_search/mccs_display.asp?mcrnumber=006179570C</td>\n",
       "    </tr>\n",
       "    <tr>\n",
       "      <th>2</th>\n",
       "      <td>BARRY MICHAEL SMITH DBA:   BUFFALO TOWING</td>\n",
       "      <td>BARRY MICHAEL SMITH / OWNER</td>\n",
       "      <td>8066544404</td>\n",
       "      <td>Active</td>\n",
       "      <td>[4501 W CEMETERY RD, CANYON, TX. 79015]</td>\n",
       "      <td>006502097C</td>\n",
       "      <td>https://www.tdlr.texas.gov/tools_search/mccs_display.asp?mcrnumber=006502097C</td>\n",
       "    </tr>\n",
       "  </tbody>\n",
       "</table>\n",
       "</div>"
      ],
      "text/plain": [
       "                                  business_name  \\\n",
       "0     AUGUSTUS E SMITH DBA:   A-1 AUTO RECOVERY   \n",
       "1     B.D. SMITH TOWING DBA:   NO DATA            \n",
       "2     BARRY MICHAEL SMITH DBA:   BUFFALO TOWING   \n",
       "\n",
       "                           owner       phone   status  \\\n",
       "0  AUGUSTUS EUGENE SMITH / OWNER  9032276464  Active    \n",
       "1  BRANDT SMITH / OWNER           8173330706  Expired   \n",
       "2  BARRY MICHAEL SMITH / OWNER    8066544404  Active    \n",
       "\n",
       "                                            address TDLR Number  \\\n",
       "0  [103 N MAIN ST, BONHAM, TX. 75418]                006507931C   \n",
       "1  [13619 BRETT JACKSON RD., FORT WORTH, TX. 76179]  006179570C   \n",
       "2  [4501 W CEMETERY RD, CANYON, TX. 79015]           006502097C   \n",
       "\n",
       "                                                                             url  \n",
       "0  https://www.tdlr.texas.gov/tools_search/mccs_display.asp?mcrnumber=006507931C  \n",
       "1  https://www.tdlr.texas.gov/tools_search/mccs_display.asp?mcrnumber=006179570C  \n",
       "2  https://www.tdlr.texas.gov/tools_search/mccs_display.asp?mcrnumber=006502097C  "
      ]
     },
     "execution_count": 64,
     "metadata": {},
     "output_type": "execute_result"
    }
   ],
   "source": [
    "trucks_df"
   ]
  },
  {
   "cell_type": "markdown",
   "metadata": {},
   "source": [
    "### Save your dataframe as a CSV named `tow-trucks-extended.csv`"
   ]
  },
  {
   "cell_type": "code",
   "execution_count": 65,
   "metadata": {},
   "outputs": [],
   "source": [
    "trucks_df.to_csv('tow-trucks-extended.csv', index=False)"
   ]
  },
  {
   "cell_type": "markdown",
   "metadata": {},
   "source": [
    "### Re-open your dataframe to confirm you didn't save any extra weird columns"
   ]
  },
  {
   "cell_type": "code",
   "execution_count": 66,
   "metadata": {},
   "outputs": [
    {
     "data": {
      "text/html": [
       "<div>\n",
       "<style scoped>\n",
       "    .dataframe tbody tr th:only-of-type {\n",
       "        vertical-align: middle;\n",
       "    }\n",
       "\n",
       "    .dataframe tbody tr th {\n",
       "        vertical-align: top;\n",
       "    }\n",
       "\n",
       "    .dataframe thead th {\n",
       "        text-align: right;\n",
       "    }\n",
       "</style>\n",
       "<table border=\"1\" class=\"dataframe\">\n",
       "  <thead>\n",
       "    <tr style=\"text-align: right;\">\n",
       "      <th></th>\n",
       "      <th>business_name</th>\n",
       "      <th>owner</th>\n",
       "      <th>phone</th>\n",
       "      <th>status</th>\n",
       "      <th>address</th>\n",
       "      <th>TDLR Number</th>\n",
       "      <th>url</th>\n",
       "    </tr>\n",
       "  </thead>\n",
       "  <tbody>\n",
       "    <tr>\n",
       "      <th>0</th>\n",
       "      <td>AUGUSTUS E SMITH DBA:   A-1 AUTO RECOVERY</td>\n",
       "      <td>AUGUSTUS EUGENE SMITH / OWNER</td>\n",
       "      <td>9032276464</td>\n",
       "      <td>Active</td>\n",
       "      <td>['103 N MAIN ST', 'BONHAM, TX. 75418']</td>\n",
       "      <td>006507931C</td>\n",
       "      <td>https://www.tdlr.texas.gov/tools_search/mccs_display.asp?mcrnumber=006507931C</td>\n",
       "    </tr>\n",
       "    <tr>\n",
       "      <th>1</th>\n",
       "      <td>B.D. SMITH TOWING DBA:   NO DATA</td>\n",
       "      <td>BRANDT SMITH / OWNER</td>\n",
       "      <td>8173330706</td>\n",
       "      <td>Expired</td>\n",
       "      <td>['13619 BRETT JACKSON RD.', 'FORT WORTH, TX. 76179']</td>\n",
       "      <td>006179570C</td>\n",
       "      <td>https://www.tdlr.texas.gov/tools_search/mccs_display.asp?mcrnumber=006179570C</td>\n",
       "    </tr>\n",
       "    <tr>\n",
       "      <th>2</th>\n",
       "      <td>BARRY MICHAEL SMITH DBA:   BUFFALO TOWING</td>\n",
       "      <td>BARRY MICHAEL SMITH / OWNER</td>\n",
       "      <td>8066544404</td>\n",
       "      <td>Active</td>\n",
       "      <td>['4501 W CEMETERY RD', 'CANYON, TX. 79015']</td>\n",
       "      <td>006502097C</td>\n",
       "      <td>https://www.tdlr.texas.gov/tools_search/mccs_display.asp?mcrnumber=006502097C</td>\n",
       "    </tr>\n",
       "  </tbody>\n",
       "</table>\n",
       "</div>"
      ],
      "text/plain": [
       "                                  business_name  \\\n",
       "0     AUGUSTUS E SMITH DBA:   A-1 AUTO RECOVERY   \n",
       "1     B.D. SMITH TOWING DBA:   NO DATA            \n",
       "2     BARRY MICHAEL SMITH DBA:   BUFFALO TOWING   \n",
       "\n",
       "                           owner       phone   status  \\\n",
       "0  AUGUSTUS EUGENE SMITH / OWNER  9032276464  Active    \n",
       "1  BRANDT SMITH / OWNER           8173330706  Expired   \n",
       "2  BARRY MICHAEL SMITH / OWNER    8066544404  Active    \n",
       "\n",
       "                                                address TDLR Number  \\\n",
       "0  ['103 N MAIN ST', 'BONHAM, TX. 75418']                006507931C   \n",
       "1  ['13619 BRETT JACKSON RD.', 'FORT WORTH, TX. 76179']  006179570C   \n",
       "2  ['4501 W CEMETERY RD', 'CANYON, TX. 79015']           006502097C   \n",
       "\n",
       "                                                                             url  \n",
       "0  https://www.tdlr.texas.gov/tools_search/mccs_display.asp?mcrnumber=006507931C  \n",
       "1  https://www.tdlr.texas.gov/tools_search/mccs_display.asp?mcrnumber=006179570C  \n",
       "2  https://www.tdlr.texas.gov/tools_search/mccs_display.asp?mcrnumber=006502097C  "
      ]
     },
     "execution_count": 66,
     "metadata": {},
     "output_type": "execute_result"
    }
   ],
   "source": [
    "df_test = pd.read_csv('tow-trucks-extended.csv')\n",
    "df_test"
   ]
  },
  {
   "cell_type": "markdown",
   "metadata": {},
   "source": [
    "## Process the entire `tow-trucks.csv` file\n",
    "\n",
    "We just did it on a short subset so far. Now try it on all of the tow trucks. **Save as the same filename as before**"
   ]
  },
  {
   "cell_type": "code",
   "execution_count": 72,
   "metadata": {},
   "outputs": [
    {
     "data": {
      "text/plain": [
       "(20, 1)"
      ]
     },
     "execution_count": 72,
     "metadata": {},
     "output_type": "execute_result"
    }
   ],
   "source": [
    "df = pd.read_csv('tow-trucks.csv')\n",
    "df.shape"
   ]
  },
  {
   "cell_type": "code",
   "execution_count": 73,
   "metadata": {},
   "outputs": [],
   "source": [
    "df['url'] = df['TDLR Number'].apply(get_url)"
   ]
  },
  {
   "cell_type": "code",
   "execution_count": 75,
   "metadata": {},
   "outputs": [],
   "source": [
    "tow_trucks_df = df.url.apply(truck_scrape).join(df)"
   ]
  },
  {
   "cell_type": "code",
   "execution_count": 76,
   "metadata": {},
   "outputs": [
    {
     "data": {
      "text/html": [
       "<div>\n",
       "<style scoped>\n",
       "    .dataframe tbody tr th:only-of-type {\n",
       "        vertical-align: middle;\n",
       "    }\n",
       "\n",
       "    .dataframe tbody tr th {\n",
       "        vertical-align: top;\n",
       "    }\n",
       "\n",
       "    .dataframe thead th {\n",
       "        text-align: right;\n",
       "    }\n",
       "</style>\n",
       "<table border=\"1\" class=\"dataframe\">\n",
       "  <thead>\n",
       "    <tr style=\"text-align: right;\">\n",
       "      <th></th>\n",
       "      <th>business_name</th>\n",
       "      <th>owner</th>\n",
       "      <th>phone</th>\n",
       "      <th>status</th>\n",
       "      <th>address</th>\n",
       "      <th>TDLR Number</th>\n",
       "      <th>url</th>\n",
       "    </tr>\n",
       "  </thead>\n",
       "  <tbody>\n",
       "    <tr>\n",
       "      <th>0</th>\n",
       "      <td>AUGUSTUS E SMITH DBA:   A-1 AUTO RECOVERY</td>\n",
       "      <td>AUGUSTUS EUGENE SMITH / OWNER</td>\n",
       "      <td>9032276464</td>\n",
       "      <td>Active</td>\n",
       "      <td>[103 N MAIN ST, BONHAM, TX. 75418]</td>\n",
       "      <td>006507931C</td>\n",
       "      <td>https://www.tdlr.texas.gov/tools_search/mccs_display.asp?mcrnumber=006507931C</td>\n",
       "    </tr>\n",
       "    <tr>\n",
       "      <th>1</th>\n",
       "      <td>B.D. SMITH TOWING DBA:   NO DATA</td>\n",
       "      <td>BRANDT SMITH / OWNER</td>\n",
       "      <td>8173330706</td>\n",
       "      <td>Expired</td>\n",
       "      <td>[13619 BRETT JACKSON RD., FORT WORTH, TX. 76179]</td>\n",
       "      <td>006179570C</td>\n",
       "      <td>https://www.tdlr.texas.gov/tools_search/mccs_display.asp?mcrnumber=006179570C</td>\n",
       "    </tr>\n",
       "    <tr>\n",
       "      <th>2</th>\n",
       "      <td>BARRY MICHAEL SMITH DBA:   BUFFALO TOWING</td>\n",
       "      <td>BARRY MICHAEL SMITH / OWNER</td>\n",
       "      <td>8066544404</td>\n",
       "      <td>Active</td>\n",
       "      <td>[4501 W CEMETERY RD, CANYON, TX. 79015]</td>\n",
       "      <td>006502097C</td>\n",
       "      <td>https://www.tdlr.texas.gov/tools_search/mccs_display.asp?mcrnumber=006502097C</td>\n",
       "    </tr>\n",
       "    <tr>\n",
       "      <th>3</th>\n",
       "      <td>HEATH SMITH DBA:   AUTOKRAFT COLLISION CENTER &amp; WRECKER SRV</td>\n",
       "      <td>HEATH A SMITH / OWNER</td>\n",
       "      <td>940-552-0687</td>\n",
       "      <td>Expired</td>\n",
       "      <td>[1529 WILBARGER ST, VERNON, TX. 76384]</td>\n",
       "      <td>006494912C</td>\n",
       "      <td>https://www.tdlr.texas.gov/tools_search/mccs_display.asp?mcrnumber=006494912C</td>\n",
       "    </tr>\n",
       "    <tr>\n",
       "      <th>4</th>\n",
       "      <td>HEATH SMITH DBA:   AUTO KRAFT COLLISION CENTER &amp; WRECKER SV</td>\n",
       "      <td>HEATH A SMITH / OWNER</td>\n",
       "      <td>9405520687</td>\n",
       "      <td>Expired</td>\n",
       "      <td>[1529 WILBARGER ST, VERNON, TX. 76384]</td>\n",
       "      <td>0649468VSF</td>\n",
       "      <td>https://www.tdlr.texas.gov/tools_search/mccs_display.asp?mcrnumber=0649468VSF</td>\n",
       "    </tr>\n",
       "    <tr>\n",
       "      <th>5</th>\n",
       "      <td>HYSMITH AUTOMOTIVE DBA:   HYSMITH AUTOMOTIVE</td>\n",
       "      <td>WILLIAM THOMAS HYSMITH / PRESIDENT</td>\n",
       "      <td>Owner/Officer:   ASHLEY ERIN HYSMITH / TREASURER</td>\n",
       "      <td></td>\n",
       "      <td>[Status:  Active]</td>\n",
       "      <td>006448786C</td>\n",
       "      <td>https://www.tdlr.texas.gov/tools_search/mccs_display.asp?mcrnumber=006448786C</td>\n",
       "    </tr>\n",
       "    <tr>\n",
       "      <th>6</th>\n",
       "      <td>HYSMITH AUTOMOTIVE &amp; TRUCK REPAIR INC DBA:   HYSMITH AUTOMOTIVE</td>\n",
       "      <td>HYSMITH ERIN ASHLEY / TREASURER</td>\n",
       "      <td>Owner/Officer:   WILLIAM THOMAS HYSMITH / PRESIDENT</td>\n",
       "      <td></td>\n",
       "      <td>[Status:  Suspended]</td>\n",
       "      <td>0648444VSF</td>\n",
       "      <td>https://www.tdlr.texas.gov/tools_search/mccs_display.asp?mcrnumber=0648444VSF</td>\n",
       "    </tr>\n",
       "    <tr>\n",
       "      <th>7</th>\n",
       "      <td>HYSMITH AUTOMOTIVE &amp; TRUCK REPAIR INC DBA:   HYSMITH AUTOMOTIVE</td>\n",
       "      <td>WILLIAM THOMAS HYSMITH / PRESIDENT</td>\n",
       "      <td>Owner/Officer:   ASHLEY ERIN HYSMITH / TREASURER</td>\n",
       "      <td></td>\n",
       "      <td>[Status:  Active]</td>\n",
       "      <td>0651667VSF</td>\n",
       "      <td>https://www.tdlr.texas.gov/tools_search/mccs_display.asp?mcrnumber=0651667VSF</td>\n",
       "    </tr>\n",
       "    <tr>\n",
       "      <th>8</th>\n",
       "      <td>JEFF &amp; WENDY SMITH DBA:   A-1 WRECKER SERVICE</td>\n",
       "      <td>JEFF SMITH / PARTNER</td>\n",
       "      <td>Owner/Officer:   WENDY SMITH / PARTNER</td>\n",
       "      <td></td>\n",
       "      <td>[Status:  Suspended]</td>\n",
       "      <td>006017767C</td>\n",
       "      <td>https://www.tdlr.texas.gov/tools_search/mccs_display.asp?mcrnumber=006017767C</td>\n",
       "    </tr>\n",
       "    <tr>\n",
       "      <th>9</th>\n",
       "      <td>JEFF SMITH DBA:   SAN JACINTO TOWING</td>\n",
       "      <td>JEFFREY JOHN SMITH / OWNER</td>\n",
       "      <td>8324354670</td>\n",
       "      <td>Active</td>\n",
       "      <td>[4338 HARVEY RD, CROSBY, TX. 77532]</td>\n",
       "      <td>006495492C</td>\n",
       "      <td>https://www.tdlr.texas.gov/tools_search/mccs_display.asp?mcrnumber=006495492C</td>\n",
       "    </tr>\n",
       "    <tr>\n",
       "      <th>10</th>\n",
       "      <td>LUTHER SMITH DBA:   MONKEY'S TOWING</td>\n",
       "      <td>LUTHER EUGENE SMITH / OWNER</td>\n",
       "      <td>281-838-9435</td>\n",
       "      <td>Insurance and/or fees not applied</td>\n",
       "      <td>[20001 FM 2100 RD, CROSBY, TX. 77532]</td>\n",
       "      <td>006518521C</td>\n",
       "      <td>https://www.tdlr.texas.gov/tools_search/mccs_display.asp?mcrnumber=006518521C</td>\n",
       "    </tr>\n",
       "    <tr>\n",
       "      <th>11</th>\n",
       "      <td>MAURICE SMITH DBA:   TIP TOWING &amp; RECOVERY</td>\n",
       "      <td>MAURICE SMITH / OWNER</td>\n",
       "      <td>7134544462</td>\n",
       "      <td>Active</td>\n",
       "      <td>[5505 SAVANNAH WOODS LN, ROSHARON, TX. 77583]</td>\n",
       "      <td>006521662C</td>\n",
       "      <td>https://www.tdlr.texas.gov/tools_search/mccs_display.asp?mcrnumber=006521662C</td>\n",
       "    </tr>\n",
       "    <tr>\n",
       "      <th>12</th>\n",
       "      <td>METRO LOCKSMITHS INC DBA:   METRO TRANSPORT &amp; LOGISTICS</td>\n",
       "      <td>ESTHER ENRIQUEZ / MANAGER</td>\n",
       "      <td>Owner/Officer:   SOCORRO M ARREOLA / OWNER</td>\n",
       "      <td></td>\n",
       "      <td>[Status:  Suspended]</td>\n",
       "      <td>006482451C</td>\n",
       "      <td>https://www.tdlr.texas.gov/tools_search/mccs_display.asp?mcrnumber=006482451C</td>\n",
       "    </tr>\n",
       "    <tr>\n",
       "      <th>13</th>\n",
       "      <td>RICKY SMITH DBA:   R &amp; D TOWING AND RECOVERY</td>\n",
       "      <td>RICKY SMITH / OWNER</td>\n",
       "      <td>9364997917</td>\n",
       "      <td>Suspended</td>\n",
       "      <td>[115 CARTWRIGHT, CONROE, TX. 77301]</td>\n",
       "      <td>0646264VSF</td>\n",
       "      <td>https://www.tdlr.texas.gov/tools_search/mccs_display.asp?mcrnumber=0646264VSF</td>\n",
       "    </tr>\n",
       "    <tr>\n",
       "      <th>14</th>\n",
       "      <td>RICKY SMITH DBA:   R &amp; D TOWING &amp; RECOVERY</td>\n",
       "      <td>RICKY SMITH / OWNER</td>\n",
       "      <td>9364997917</td>\n",
       "      <td>Suspended</td>\n",
       "      <td>[11426 FOSTORIA RD, CLEVELAND, TX. 77328]</td>\n",
       "      <td>0650690VSF</td>\n",
       "      <td>https://www.tdlr.texas.gov/tools_search/mccs_display.asp?mcrnumber=0650690VSF</td>\n",
       "    </tr>\n",
       "    <tr>\n",
       "      <th>15</th>\n",
       "      <td>SAMMY L SMITH DBA:   SMITH WRECKER &amp; RECOVERY</td>\n",
       "      <td>SAMMY LEE SMITH / OWNER</td>\n",
       "      <td>3252159496</td>\n",
       "      <td>Expired</td>\n",
       "      <td>[355 N 16TH ST, JUNCTION, TX. 76849]</td>\n",
       "      <td>006505010C</td>\n",
       "      <td>https://www.tdlr.texas.gov/tools_search/mccs_display.asp?mcrnumber=006505010C</td>\n",
       "    </tr>\n",
       "    <tr>\n",
       "      <th>16</th>\n",
       "      <td>SMITH BRO. WRECKER SERVICE DBA:   NO DATA</td>\n",
       "      <td>JEFF SMITH / PARTNER</td>\n",
       "      <td>Owner/Officer:   GLEN SMITH / PARTNER</td>\n",
       "      <td></td>\n",
       "      <td>[Status:  Expired]</td>\n",
       "      <td>0000210VSF</td>\n",
       "      <td>https://www.tdlr.texas.gov/tools_search/mccs_display.asp?mcrnumber=0000210VSF</td>\n",
       "    </tr>\n",
       "    <tr>\n",
       "      <th>17</th>\n",
       "      <td>SMITH BROS. WRECKER SERVICE DBA:   NO DATA</td>\n",
       "      <td>JEFF SMITH / PARTNER</td>\n",
       "      <td>Owner/Officer:   GLEN SMITH / PARTNER</td>\n",
       "      <td></td>\n",
       "      <td>[Status:  Suspended]</td>\n",
       "      <td>005029369C</td>\n",
       "      <td>https://www.tdlr.texas.gov/tools_search/mccs_display.asp?mcrnumber=005029369C</td>\n",
       "    </tr>\n",
       "    <tr>\n",
       "      <th>18</th>\n",
       "      <td>SMITH TOWING &amp; RECOVERY, LLC DBA:   NO DATA</td>\n",
       "      <td>RICKY L SMITH / OWNER</td>\n",
       "      <td>9362693915</td>\n",
       "      <td>Active</td>\n",
       "      <td>[12741 HWY 84E, JOAQUIN, TX. 75954]</td>\n",
       "      <td>006410509C</td>\n",
       "      <td>https://www.tdlr.texas.gov/tools_search/mccs_display.asp?mcrnumber=006410509C</td>\n",
       "    </tr>\n",
       "    <tr>\n",
       "      <th>19</th>\n",
       "      <td>SMITH TOWING &amp; RECOVERY,LLC DBA:   NO DATA</td>\n",
       "      <td>RICKY L SMITH / CEO</td>\n",
       "      <td>9362693915</td>\n",
       "      <td>Active</td>\n",
       "      <td>[12741 HWY 84 E, JOAQUIN, TX. 75954]</td>\n",
       "      <td>0643482VSF</td>\n",
       "      <td>https://www.tdlr.texas.gov/tools_search/mccs_display.asp?mcrnumber=0643482VSF</td>\n",
       "    </tr>\n",
       "  </tbody>\n",
       "</table>\n",
       "</div>"
      ],
      "text/plain": [
       "                                                         business_name  \\\n",
       "0      AUGUSTUS E SMITH DBA:   A-1 AUTO RECOVERY                         \n",
       "1      B.D. SMITH TOWING DBA:   NO DATA                                  \n",
       "2      BARRY MICHAEL SMITH DBA:   BUFFALO TOWING                         \n",
       "3      HEATH SMITH DBA:   AUTOKRAFT COLLISION CENTER & WRECKER SRV       \n",
       "4      HEATH SMITH DBA:   AUTO KRAFT COLLISION CENTER & WRECKER SV       \n",
       "5      HYSMITH AUTOMOTIVE DBA:   HYSMITH AUTOMOTIVE                      \n",
       "6      HYSMITH AUTOMOTIVE & TRUCK REPAIR INC DBA:   HYSMITH AUTOMOTIVE   \n",
       "7      HYSMITH AUTOMOTIVE & TRUCK REPAIR INC DBA:   HYSMITH AUTOMOTIVE   \n",
       "8      JEFF & WENDY SMITH DBA:   A-1 WRECKER SERVICE                     \n",
       "9      JEFF SMITH DBA:   SAN JACINTO TOWING                              \n",
       "10     LUTHER SMITH DBA:   MONKEY'S TOWING                               \n",
       "11     MAURICE SMITH DBA:   TIP TOWING & RECOVERY                        \n",
       "12     METRO LOCKSMITHS INC DBA:   METRO TRANSPORT & LOGISTICS           \n",
       "13     RICKY SMITH DBA:   R & D TOWING AND RECOVERY                      \n",
       "14     RICKY SMITH DBA:   R & D TOWING & RECOVERY                        \n",
       "15     SAMMY L SMITH DBA:   SMITH WRECKER & RECOVERY                     \n",
       "16     SMITH BRO. WRECKER SERVICE DBA:   NO DATA                         \n",
       "17     SMITH BROS. WRECKER SERVICE DBA:   NO DATA                        \n",
       "18     SMITH TOWING & RECOVERY, LLC DBA:   NO DATA                       \n",
       "19     SMITH TOWING & RECOVERY,LLC DBA:   NO DATA                        \n",
       "\n",
       "                                 owner  \\\n",
       "0   AUGUSTUS EUGENE SMITH / OWNER        \n",
       "1   BRANDT SMITH / OWNER                 \n",
       "2   BARRY MICHAEL SMITH / OWNER          \n",
       "3   HEATH A SMITH / OWNER                \n",
       "4   HEATH A SMITH / OWNER                \n",
       "5   WILLIAM THOMAS HYSMITH / PRESIDENT   \n",
       "6   HYSMITH ERIN ASHLEY / TREASURER      \n",
       "7   WILLIAM THOMAS HYSMITH / PRESIDENT   \n",
       "8   JEFF SMITH / PARTNER                 \n",
       "9   JEFFREY JOHN SMITH / OWNER           \n",
       "10  LUTHER EUGENE SMITH / OWNER          \n",
       "11  MAURICE SMITH / OWNER                \n",
       "12  ESTHER ENRIQUEZ / MANAGER            \n",
       "13  RICKY SMITH / OWNER                  \n",
       "14  RICKY SMITH / OWNER                  \n",
       "15  SAMMY LEE SMITH / OWNER              \n",
       "16  JEFF SMITH / PARTNER                 \n",
       "17  JEFF SMITH / PARTNER                 \n",
       "18  RICKY L SMITH / OWNER                \n",
       "19  RICKY L SMITH / CEO                  \n",
       "\n",
       "                                                  phone  \\\n",
       "0   9032276464                                            \n",
       "1   8173330706                                            \n",
       "2   8066544404                                            \n",
       "3   940-552-0687                                          \n",
       "4   9405520687                                            \n",
       "5   Owner/Officer:   ASHLEY ERIN HYSMITH / TREASURER      \n",
       "6   Owner/Officer:   WILLIAM THOMAS HYSMITH / PRESIDENT   \n",
       "7   Owner/Officer:   ASHLEY ERIN HYSMITH / TREASURER      \n",
       "8   Owner/Officer:   WENDY SMITH / PARTNER                \n",
       "9   8324354670                                            \n",
       "10  281-838-9435                                          \n",
       "11  7134544462                                            \n",
       "12  Owner/Officer:   SOCORRO M ARREOLA / OWNER            \n",
       "13  9364997917                                            \n",
       "14  9364997917                                            \n",
       "15  3252159496                                            \n",
       "16  Owner/Officer:   GLEN SMITH / PARTNER                 \n",
       "17  Owner/Officer:   GLEN SMITH / PARTNER                 \n",
       "18  9362693915                                            \n",
       "19  9362693915                                            \n",
       "\n",
       "                               status  \\\n",
       "0   Active                              \n",
       "1   Expired                             \n",
       "2   Active                              \n",
       "3   Expired                             \n",
       "4   Expired                             \n",
       "5                                       \n",
       "6                                       \n",
       "7                                       \n",
       "8                                       \n",
       "9   Active                              \n",
       "10  Insurance and/or fees not applied   \n",
       "11  Active                              \n",
       "12                                      \n",
       "13  Suspended                           \n",
       "14  Suspended                           \n",
       "15  Expired                             \n",
       "16                                      \n",
       "17                                      \n",
       "18  Active                              \n",
       "19  Active                              \n",
       "\n",
       "                                             address TDLR Number  \\\n",
       "0   [103 N MAIN ST, BONHAM, TX. 75418]                006507931C   \n",
       "1   [13619 BRETT JACKSON RD., FORT WORTH, TX. 76179]  006179570C   \n",
       "2   [4501 W CEMETERY RD, CANYON, TX. 79015]           006502097C   \n",
       "3   [1529 WILBARGER ST, VERNON, TX. 76384]            006494912C   \n",
       "4   [1529 WILBARGER ST, VERNON, TX. 76384]            0649468VSF   \n",
       "5   [Status:  Active]                                 006448786C   \n",
       "6   [Status:  Suspended]                              0648444VSF   \n",
       "7   [Status:  Active]                                 0651667VSF   \n",
       "8   [Status:  Suspended]                              006017767C   \n",
       "9   [4338 HARVEY RD, CROSBY, TX. 77532]               006495492C   \n",
       "10  [20001 FM 2100 RD, CROSBY, TX. 77532]             006518521C   \n",
       "11  [5505 SAVANNAH WOODS LN, ROSHARON, TX. 77583]     006521662C   \n",
       "12  [Status:  Suspended]                              006482451C   \n",
       "13  [115 CARTWRIGHT, CONROE, TX. 77301]               0646264VSF   \n",
       "14  [11426 FOSTORIA RD, CLEVELAND, TX. 77328]         0650690VSF   \n",
       "15  [355 N 16TH ST, JUNCTION, TX. 76849]              006505010C   \n",
       "16  [Status:  Expired]                                0000210VSF   \n",
       "17  [Status:  Suspended]                              005029369C   \n",
       "18  [12741 HWY 84E, JOAQUIN, TX. 75954]               006410509C   \n",
       "19  [12741 HWY 84 E, JOAQUIN, TX. 75954]              0643482VSF   \n",
       "\n",
       "                                                                              url  \n",
       "0   https://www.tdlr.texas.gov/tools_search/mccs_display.asp?mcrnumber=006507931C  \n",
       "1   https://www.tdlr.texas.gov/tools_search/mccs_display.asp?mcrnumber=006179570C  \n",
       "2   https://www.tdlr.texas.gov/tools_search/mccs_display.asp?mcrnumber=006502097C  \n",
       "3   https://www.tdlr.texas.gov/tools_search/mccs_display.asp?mcrnumber=006494912C  \n",
       "4   https://www.tdlr.texas.gov/tools_search/mccs_display.asp?mcrnumber=0649468VSF  \n",
       "5   https://www.tdlr.texas.gov/tools_search/mccs_display.asp?mcrnumber=006448786C  \n",
       "6   https://www.tdlr.texas.gov/tools_search/mccs_display.asp?mcrnumber=0648444VSF  \n",
       "7   https://www.tdlr.texas.gov/tools_search/mccs_display.asp?mcrnumber=0651667VSF  \n",
       "8   https://www.tdlr.texas.gov/tools_search/mccs_display.asp?mcrnumber=006017767C  \n",
       "9   https://www.tdlr.texas.gov/tools_search/mccs_display.asp?mcrnumber=006495492C  \n",
       "10  https://www.tdlr.texas.gov/tools_search/mccs_display.asp?mcrnumber=006518521C  \n",
       "11  https://www.tdlr.texas.gov/tools_search/mccs_display.asp?mcrnumber=006521662C  \n",
       "12  https://www.tdlr.texas.gov/tools_search/mccs_display.asp?mcrnumber=006482451C  \n",
       "13  https://www.tdlr.texas.gov/tools_search/mccs_display.asp?mcrnumber=0646264VSF  \n",
       "14  https://www.tdlr.texas.gov/tools_search/mccs_display.asp?mcrnumber=0650690VSF  \n",
       "15  https://www.tdlr.texas.gov/tools_search/mccs_display.asp?mcrnumber=006505010C  \n",
       "16  https://www.tdlr.texas.gov/tools_search/mccs_display.asp?mcrnumber=0000210VSF  \n",
       "17  https://www.tdlr.texas.gov/tools_search/mccs_display.asp?mcrnumber=005029369C  \n",
       "18  https://www.tdlr.texas.gov/tools_search/mccs_display.asp?mcrnumber=006410509C  \n",
       "19  https://www.tdlr.texas.gov/tools_search/mccs_display.asp?mcrnumber=0643482VSF  "
      ]
     },
     "execution_count": 76,
     "metadata": {},
     "output_type": "execute_result"
    }
   ],
   "source": [
    "tow_trucks_df"
   ]
  },
  {
   "cell_type": "code",
   "execution_count": 79,
   "metadata": {},
   "outputs": [],
   "source": [
    "#Yikes. My method of calling tr tags isn't very good when there are several owners + treasurers listed :-(\n",
    "#I think the solution lies in including some if statements in the truck_scrape function. "
   ]
  }
 ],
 "metadata": {
  "kernelspec": {
   "display_name": "Python 3",
   "language": "python",
   "name": "python3"
  },
  "language_info": {
   "codemirror_mode": {
    "name": "ipython",
    "version": 3
   },
   "file_extension": ".py",
   "mimetype": "text/x-python",
   "name": "python",
   "nbconvert_exporter": "python",
   "pygments_lexer": "ipython3",
   "version": "3.6.4"
  }
 },
 "nbformat": 4,
 "nbformat_minor": 2
}
