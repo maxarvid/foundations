{
 "cells": [
  {
   "cell_type": "code",
   "execution_count": 11,
   "metadata": {},
   "outputs": [],
   "source": [
    "from selenium import webdriver\n",
    "from selenium.webdriver.common.keys import Keys\n",
    "from selenium.webdriver.support.ui import Select\n",
    "from selenium.webdriver.support.ui import WebDriverWait\n",
    "\n",
    "from pyvirtualdisplay import Display\n",
    "display = Display(visible=0, size=(800, 600))\n",
    "display.start()\n",
    "\n",
    "import pandas as pd\n",
    "import requests\n",
    "import time"
   ]
  },
  {
   "cell_type": "markdown",
   "metadata": {},
   "source": [
    "Let's scrape the frontpage of Reddit and completely ignore their API."
   ]
  },
  {
   "cell_type": "code",
   "execution_count": 15,
   "metadata": {},
   "outputs": [],
   "source": [
    "options = webdriver.ChromeOptions()\n",
    "options.add_argument('--no-sandbox')\n",
    "options.add_argument('--disable-dev-shm-usage')\n",
    "#options.add_argument('--headless')\n",
    "\n",
    "driver = webdriver.Chrome(chrome_options=options)\n",
    "driver.get('https://www.old.reddit.com/')\n",
    "time.sleep(1)"
   ]
  },
  {
   "cell_type": "code",
   "execution_count": 27,
   "metadata": {},
   "outputs": [],
   "source": [
    "#driver.find_elements_by_tag_name('a')[2].click()\n",
    "#find_element_by_xpath('//*[@id=\"desktop-onboarding-sign-up-form\"]/p[2]/a[2]').click()"
   ]
  },
  {
   "cell_type": "code",
   "execution_count": 14,
   "metadata": {},
   "outputs": [],
   "source": [
    "#Get rid of the popup:\n",
    "driver.find_elements_by_tag_name('a')[2].click()"
   ]
  },
  {
   "cell_type": "code",
   "execution_count": 4,
   "metadata": {},
   "outputs": [],
   "source": [
    "front_page_posts = []\n",
    "for post in driver.find_elements_by_class_name('thing')[1:]: #Getting rid of the first sponsored post.\n",
    "    data = {}\n",
    "    data['title'] = post.find_elements_by_class_name('title')[1].text\n",
    "    data['url'] = post.find_elements_by_class_name('title')[1].get_attribute('href')\n",
    "    data['rank'] = post.find_element_by_class_name('rank').text\n",
    "    data['subreddit'] = post.find_element_by_class_name('subreddit').text #This will break if we try to scrape the ads.\n",
    "    data['author'] = post.find_element_by_class_name('author').text\n",
    "    data['author_url'] = post.find_element_by_class_name('author').get_attribute('href')\n",
    "    data['upvotes'] = post.find_elements_by_class_name('score')[1].get_attribute('title')\n",
    "    data['time'] = post.find_element_by_tag_name('time').get_attribute('datetime')\n",
    "    front_page_posts.append(data)"
   ]
  },
  {
   "cell_type": "code",
   "execution_count": 5,
   "metadata": {},
   "outputs": [],
   "source": [
    "#front_page_posts"
   ]
  },
  {
   "cell_type": "code",
   "execution_count": 6,
   "metadata": {},
   "outputs": [],
   "source": [
    "#Preparation for the email briefing I am sending to myself.\n",
    "import datetime\n",
    "right_now = datetime.datetime.now()\n",
    "date_string = right_now.strftime(\"%Y-%m-%d-%-I%p\")"
   ]
  },
  {
   "cell_type": "code",
   "execution_count": 7,
   "metadata": {},
   "outputs": [],
   "source": [
    "#Let's save as a csv.\n",
    "df = pd.DataFrame(front_page_posts)\n",
    "df.to_csv('briefing'+date_string+'.csv', index=False)"
   ]
  },
  {
   "cell_type": "code",
   "execution_count": 8,
   "metadata": {},
   "outputs": [],
   "source": [
    "#Keeping the subject line and text of the email flexible by assigning variables.\n",
    "subject_line = \"Here is your \"+right_now.strftime('%-I%p')+\" briefing.\"\n",
    "text = \"Hey pal, gonna populate this later, let's see if this works first\""
   ]
  },
  {
   "cell_type": "code",
   "execution_count": 9,
   "metadata": {},
   "outputs": [],
   "source": [
    "#And attach that csv to an email.\n",
    "def send_email():\n",
    "    return requests.post(\n",
    "        \"https://api.mailgun.net/v3/sandboxefa60e8bb6054ec5999625c2198c091e.mailgun.org/messages\",\n",
    "        auth=(\"api\", \"a7a4af1e5d8ecde60066d154d51dca6e-0470a1f7-e93712be\"),\n",
    "        files=[(\"attachment\", open('briefing'+date_string+'.csv'))],\n",
    "        data={\"from\": \"<mailgun@sandboxefa60e8bb6054ec5999625c2198c091e.mailgun.org>\",\n",
    "              \"to\": [\"MAX.ARVID.ANDERSON@GMAIL.COM\"],\n",
    "              \"subject\": subject_line,\n",
    "              \"text\": text})"
   ]
  },
  {
   "cell_type": "code",
   "execution_count": 10,
   "metadata": {},
   "outputs": [
    {
     "data": {
      "text/plain": [
       "<Response [200]>"
      ]
     },
     "execution_count": 10,
     "metadata": {},
     "output_type": "execute_result"
    }
   ],
   "source": [
    "send_email()"
   ]
  },
  {
   "cell_type": "code",
   "execution_count": null,
   "metadata": {},
   "outputs": [],
   "source": []
  }
 ],
 "metadata": {
  "kernelspec": {
   "display_name": "Python 3",
   "language": "python",
   "name": "python3"
  },
  "language_info": {
   "codemirror_mode": {
    "name": "ipython",
    "version": 3
   },
   "file_extension": ".py",
   "mimetype": "text/x-python",
   "name": "python",
   "nbconvert_exporter": "python",
   "pygments_lexer": "ipython3",
   "version": "3.6.4"
  }
 },
 "nbformat": 4,
 "nbformat_minor": 2
}
