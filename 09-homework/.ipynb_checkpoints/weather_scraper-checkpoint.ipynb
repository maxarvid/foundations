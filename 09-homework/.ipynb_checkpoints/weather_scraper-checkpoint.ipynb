{
 "cells": [
  {
   "cell_type": "code",
   "execution_count": 1,
   "metadata": {},
   "outputs": [],
   "source": [
    "import requests\n",
    "import datetime"
   ]
  },
  {
   "cell_type": "code",
   "execution_count": 2,
   "metadata": {},
   "outputs": [],
   "source": [
    "response = requests.get('https://api.darksky.net/forecast/4a49a43f92c8ce2a327f67aa2f020d79/40.730610,-73.935242')\n",
    "data = response.json()"
   ]
  },
  {
   "cell_type": "code",
   "execution_count": 3,
   "metadata": {},
   "outputs": [],
   "source": [
    "temp = data['currently']['temperature']\n",
    "summary = data['currently']['summary']\n",
    "temp_feeling = data['currently']['apparentTemperature']\n",
    "high_temp = data['daily']['data'][0]['temperatureHigh']\n",
    "low_temp = data['daily']['data'][0]['temperatureLow']\n",
    "rain_warning = data['currently']['precipProbability']\n",
    "rain_warning_text = \"\"\n",
    "if rain_warning < .5:\n",
    "    rain_warning_text = \"Risk it! Leave the umbrella at home.\"\n",
    "else:\n",
    "    rain_warning_text = \"Better bring an umbrella.\"\n"
   ]
  },
  {
   "cell_type": "code",
   "execution_count": 4,
   "metadata": {},
   "outputs": [],
   "source": [
    "right_now = datetime.datetime.now()\n",
    "date_string = right_now.strftime(\"%B %d, %Y\")\n",
    "subject_line = \"8AM Weather forecast: \"+date_string"
   ]
  },
  {
   "cell_type": "code",
   "execution_count": 5,
   "metadata": {},
   "outputs": [],
   "source": [
    "text = 'Right now it is ' + str(temp) + ' degrees out and ' + summary.lower() +'. Today will be '+ str(temp_feeling) +\\\n",
    "' with a high of '+ str(high_temp) + ' and a low of '+ str(low_temp) + '. ' + rain_warning_text"
   ]
  },
  {
   "cell_type": "code",
   "execution_count": 6,
   "metadata": {},
   "outputs": [],
   "source": [
    "def send_simple_message():\n",
    "    return requests.post(\n",
    "        \"https://api.mailgun.net/v3/sandboxefa60e8bb6054ec5999625c2198c091e.mailgun.org/messages\",\n",
    "        auth=(\"api\", \"a7a4af1e5d8ecde60066d154d51dca6e-0470a1f7-e93712be\"),\n",
    "        data={\"from\": \"<mailgun@sandboxefa60e8bb6054ec5999625c2198c091e.mailgun.org>\",\n",
    "              \"to\": [\"MAX.ARVID.ANDERSON@GMAIL.COM\"],\n",
    "              \"subject\": subject_line,\n",
    "              \"text\": text})"
   ]
  },
  {
   "cell_type": "code",
   "execution_count": 7,
   "metadata": {},
   "outputs": [],
   "source": [
    "#response = send_simple_message()"
   ]
  },
  {
   "cell_type": "code",
   "execution_count": 8,
   "metadata": {},
   "outputs": [],
   "source": [
    "#response.text"
   ]
  },
  {
   "cell_type": "code",
   "execution_count": null,
   "metadata": {},
   "outputs": [],
   "source": []
  }
 ],
 "metadata": {
  "kernelspec": {
   "display_name": "Python 3",
   "language": "python",
   "name": "python3"
  },
  "language_info": {
   "codemirror_mode": {
    "name": "ipython",
    "version": 3
   },
   "file_extension": ".py",
   "mimetype": "text/x-python",
   "name": "python",
   "nbconvert_exporter": "python",
   "pygments_lexer": "ipython3",
   "version": "3.6.4"
  }
 },
 "nbformat": 4,
 "nbformat_minor": 2
}
